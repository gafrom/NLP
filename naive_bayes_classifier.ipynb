{
 "cells": [
  {
   "cell_type": "markdown",
   "metadata": {},
   "source": [
    "# Text Classification\n",
    "\n",
    "Using Naive Bayes"
   ]
  },
  {
   "cell_type": "code",
   "execution_count": 1,
   "metadata": {
    "collapsed": true
   },
   "outputs": [],
   "source": [
    "import pickle\n",
    "from pathlib import Path\n",
    "import os\n",
    "\n",
    "import pandas as pd\n",
    "import numpy as np\n",
    "from sklearn import metrics\n",
    "\n",
    "from nlp.nb import NBClassifier"
   ]
  },
  {
   "cell_type": "markdown",
   "metadata": {},
   "source": [
    "### Loading articles"
   ]
  },
  {
   "cell_type": "code",
   "execution_count": 2,
   "metadata": {},
   "outputs": [
    {
     "name": "stdout",
     "output_type": "stream",
     "text": [
      "Loading index from stored file (113239 bytes)...\n",
      "Counts:\n",
      "1    7518\n",
      "0    6617\n",
      "Name: label, dtype: int64\n"
     ]
    },
    {
     "data": {
      "text/html": [
       "<div>\n",
       "<style scoped>\n",
       "    .dataframe tbody tr th:only-of-type {\n",
       "        vertical-align: middle;\n",
       "    }\n",
       "\n",
       "    .dataframe tbody tr th {\n",
       "        vertical-align: top;\n",
       "    }\n",
       "\n",
       "    .dataframe thead th {\n",
       "        text-align: right;\n",
       "    }\n",
       "</style>\n",
       "<table border=\"1\" class=\"dataframe\">\n",
       "  <thead>\n",
       "    <tr style=\"text-align: right;\">\n",
       "      <th></th>\n",
       "      <th>body</th>\n",
       "      <th>label</th>\n",
       "    </tr>\n",
       "  </thead>\n",
       "  <tbody>\n",
       "    <tr>\n",
       "      <th>10624</th>\n",
       "      <td>Во Франции цементный концерн подозревают в спо...</td>\n",
       "      <td>1</td>\n",
       "    </tr>\n",
       "    <tr>\n",
       "      <th>10193</th>\n",
       "      <td>Полиция Ирландии арестовала двух человек после...</td>\n",
       "      <td>1</td>\n",
       "    </tr>\n",
       "    <tr>\n",
       "      <th>2894</th>\n",
       "      <td>Российские медицинские туристы, которые ездили...</td>\n",
       "      <td>0</td>\n",
       "    </tr>\n",
       "    <tr>\n",
       "      <th>9087</th>\n",
       "      <td>Следователь московского полицейского главка вы...</td>\n",
       "      <td>1</td>\n",
       "    </tr>\n",
       "    <tr>\n",
       "      <th>7888</th>\n",
       "      <td>МЧС предупредило москвичей об ухудшении погоды...</td>\n",
       "      <td>1</td>\n",
       "    </tr>\n",
       "  </tbody>\n",
       "</table>\n",
       "</div>"
      ],
      "text/plain": [
       "                                                    body  label\n",
       "10624  Во Франции цементный концерн подозревают в спо...      1\n",
       "10193  Полиция Ирландии арестовала двух человек после...      1\n",
       "2894   Российские медицинские туристы, которые ездили...      0\n",
       "9087   Следователь московского полицейского главка вы...      1\n",
       "7888   МЧС предупредило москвичей об ухудшении погоды...      1"
      ]
     },
     "execution_count": 2,
     "metadata": {},
     "output_type": "execute_result"
    }
   ],
   "source": [
    "STORAGE_PATH = './storage/nb.model'\n",
    "\n",
    "good_articles = pd.read_table('./articles/good.articles', sep='\\n', names=['body'])\n",
    "good_articles['label'] = 0 # good\n",
    "bad_articles  = pd.read_table('./articles/bad.articles', sep='\\n', names=['body'])\n",
    "bad_articles['label'] = 1 # bad\n",
    "\n",
    "# joining\n",
    "articles = pd.concat([good_articles, bad_articles], ignore_index=True)\n",
    "\n",
    "# persistently shuffling\n",
    "index_path = f\"{STORAGE_PATH}.shuffled_index\"\n",
    "if Path(index_path).is_file():\n",
    "  file_size = os.path.getsize(index_path)\n",
    "  print(f\"Loading index from stored file ({file_size} bytes)...\")\n",
    "  with open(index_path, 'rb') as fp:\n",
    "    shuffled_index = pickle.load(fp)\n",
    "else:\n",
    "  print('Shuffling index for the first time ...')\n",
    "  shuffled_index = np.random.permutation(articles.index)\n",
    "  print('Saving index on disk for further access...')\n",
    "  with open(index_path, 'wb') as fp:\n",
    "    pickle.dump(shuffled_index, fp)\n",
    "  file_size = os.path.getsize(index_path)\n",
    "  print(f\"Done. It took {file_size} bytes on the disk.\")\n",
    "\n",
    "articles = articles.reindex(shuffled_index)\n",
    "\n",
    "print(f\"Counts:\\n{articles['label'].value_counts()}\")\n",
    "articles.head()"
   ]
  },
  {
   "cell_type": "markdown",
   "metadata": {},
   "source": [
    "### Splitting between train and test"
   ]
  },
  {
   "cell_type": "code",
   "execution_count": 3,
   "metadata": {},
   "outputs": [
    {
     "name": "stdout",
     "output_type": "stream",
     "text": [
      "(11308, 2)\n",
      "(2827, 2)\n"
     ]
    }
   ],
   "source": [
    "test_first_index = int(articles.shape[0] * 0.8)\n",
    "\n",
    "train_data = articles[:test_first_index]\n",
    "test_data  = articles[test_first_index:]\n",
    "\n",
    "print(train_data.shape)\n",
    "print(test_data.shape)"
   ]
  },
  {
   "cell_type": "markdown",
   "metadata": {},
   "source": [
    "### Training"
   ]
  },
  {
   "cell_type": "code",
   "execution_count": null,
   "metadata": {},
   "outputs": [],
   "source": [
    "nbcs = []\n",
    "for strategy in ['tf', 'tfidf']:\n",
    "  nbc = NBClassifier(strategy = strategy)\n",
    "  nbc.train(train_data)\n",
    "  nbcs.append(nbc)"
   ]
  },
  {
   "cell_type": "markdown",
   "metadata": {},
   "source": [
    "### Predicting"
   ]
  },
  {
   "cell_type": "code",
   "execution_count": 5,
   "metadata": {
    "collapsed": true
   },
   "outputs": [],
   "source": [
    "predictions_by_strategy = [[nbc.predict(article).label for article in test_data['body']] for nbc in nbcs]"
   ]
  },
  {
   "cell_type": "code",
   "execution_count": 6,
   "metadata": {},
   "outputs": [
    {
     "name": "stdout",
     "output_type": "stream",
     "text": [
      "             precision    recall  f1-score   support\n",
      "\n",
      "          0       0.96      0.99      0.98      1329\n",
      "          1       0.99      0.97      0.98      1498\n",
      "\n",
      "avg / total       0.98      0.98      0.98      2827\n",
      "\n",
      "             precision    recall  f1-score   support\n",
      "\n",
      "          0       0.97      0.98      0.98      1329\n",
      "          1       0.98      0.97      0.98      1498\n",
      "\n",
      "avg / total       0.98      0.98      0.98      2827\n",
      "\n"
     ]
    }
   ],
   "source": [
    "for predictions in predictions_by_strategy:\n",
    "  report = metrics.classification_report(test_data['label'], predictions)\n",
    "  print(report)"
   ]
  },
  {
   "cell_type": "markdown",
   "metadata": {},
   "source": [
    "### Results\n",
    "\n",
    "Astonishing at a first glance, but `TF` performance is a bit better. However I expected `TF` to be worse than `TFIDF`.\n",
    "\n",
    "That is due to the nature of the given task - classification of mass media publications. For instance, the structure of bad news comprises very frequent words like *сообщает* which contribute a lot to inference quality and yet squashed but inverse document frequency."
   ]
  }
 ],
 "metadata": {
  "kernelspec": {
   "display_name": "Python 3",
   "language": "python",
   "name": "python3"
  },
  "language_info": {
   "codemirror_mode": {
    "name": "ipython",
    "version": 3
   },
   "file_extension": ".py",
   "mimetype": "text/x-python",
   "name": "python",
   "nbconvert_exporter": "python",
   "pygments_lexer": "ipython3",
   "version": "3.6.1"
  }
 },
 "nbformat": 4,
 "nbformat_minor": 2
}
