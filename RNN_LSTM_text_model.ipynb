{
 "cells": [
  {
   "cell_type": "markdown",
   "metadata": {
    "collapsed": true
   },
   "source": [
    "RNN LSTM for text classification\n",
    "=============\n",
    "<span style=\"color: lightsteelblue;\">Deep Learning</span>\n",
    "\n",
    "The goal of this notebook is to train recurrent neural network with LSTM cell for the purpose of text classification."
   ]
  },
  {
   "cell_type": "markdown",
   "metadata": {},
   "source": [
    "## 1. Data preparation"
   ]
  },
  {
   "cell_type": "code",
   "execution_count": 1,
   "metadata": {
    "collapsed": true
   },
   "outputs": [],
   "source": [
    "# These are all the modules we'll be using later. Make sure you can import them\n",
    "# before proceeding further.\n",
    "import collections\n",
    "import numpy as np\n",
    "import matplotlib.pyplot as plt\n",
    "import tensorflow as tf\n",
    "import pickle\n",
    "from pathlib import Path\n",
    "import os\n",
    "import time\n",
    "\n",
    "# custom libraries\n",
    "from nlp.preparer import Corpus\n",
    "from nlp.iterator import BatchIterator\n",
    "from nlp.conveyor import Conveyor\n",
    "\n",
    "# View\n",
    "from IPython.display import Markdown, display"
   ]
  },
  {
   "cell_type": "markdown",
   "metadata": {},
   "source": [
    "### Loading corpora"
   ]
  },
  {
   "cell_type": "code",
   "execution_count": 2,
   "metadata": {},
   "outputs": [
    {
     "name": "stdout",
     "output_type": "stream",
     "text": [
      "Corpus label: good,  length: 9196 articles,  av length: 232 words,  max length: 447 words.\n",
      "Corpus raw article: 3 февраля в большинстве европейских стран закрылось зимнее трансферное окно — период, когда клубы могут заявлять новых футболистов, купленных у других команд. Ценники меняются чуть ли не ежемесячно. Н\n",
      "Corpus data (words): ['num', 'феврал', 'в', 'большинств', 'европейск', 'стран', 'закр', 'зимн', 'трансферн', 'окн', 'период', ',', 'когд', 'клуб', 'могут', 'заявля', 'нов', 'футболист', ',', 'куплен']\n",
      "\n",
      "Corpus label: bad,  length: 7521 articles,  av length: 84 words,  max length: 392 words.\n",
      "Corpus raw article: Неизвестный угрожает взорвать аэропорт Кишинева, если ему не дадут миллион. Неизвестный сообщил о бомбе в аэропорту Международного аэропорта Кишинева и требует миллион рублей, сообщили в пограничной п\n",
      "Corpus data (words): ['неизвестн', 'угрожа', 'взорва', 'аэропорт', 'кишинев', ',', 'есл', 'ем', 'не', 'дадут', 'миллион', '.', 'неизвестн', 'сообщ', 'о', 'бомб', 'в', 'аэропорт', 'международн', 'аэропорт']\n",
      "\n"
     ]
    }
   ],
   "source": [
    "corpora_paths = ['./articles/good.articles', './articles/bad.articles'] \n",
    "corpora = []\n",
    "lengths = []\n",
    "\n",
    "for path in corpora_paths:\n",
    "  corpus = Corpus(path, 321)\n",
    "  corpora.append(corpus)\n",
    "  length = [len(article) for article in corpus.articles]\n",
    "  lengths.append(length)\n",
    "\n",
    "  print(f\"Corpus label: {corpus.label}, \",\n",
    "        f\"length: {len(corpus.articles)} articles, \",\n",
    "        f\"av length: {round(corpus.average_length())} words, \",\n",
    "        f\"max length: {max(length)} words.\")\n",
    "  print(f\"Corpus raw article: {corpus.raw[0][:200]}\")\n",
    "  print(f\"Corpus data (words): {corpus.articles[0][:20]}\\n\")"
   ]
  },
  {
   "cell_type": "markdown",
   "metadata": {},
   "source": [
    "### Visualizing articles lengths"
   ]
  },
  {
   "cell_type": "code",
   "execution_count": 3,
   "metadata": {},
   "outputs": [
    {
     "data": {
      "image/png": "[encoded data removed]",
      "text/plain": [
       "<matplotlib.figure.Figure at 0x118de4128>"
      ]
     },
     "metadata": {},
     "output_type": "display_data"
    }
   ],
   "source": [
    "# visualization\n",
    "plt.figure().set_size_inches(15, 8)\n",
    "\n",
    "plt.subplot(211)\n",
    "plt.xlabel('Article length (words)')\n",
    "plt.ylabel('Number of articles')\n",
    "plt.title(f'Lengths distribution: {corpora[0].label} articles')\n",
    "plt.hist(lengths[0], 200)\n",
    "\n",
    "plt.subplots_adjust(hspace=.5)\n",
    "\n",
    "plt.subplot(212)\n",
    "plt.xlabel('Article length (words)')\n",
    "plt.ylabel('Number of articles')\n",
    "plt.title(f'Lengths distribution: {corpora[1].label} articles')\n",
    "plt.hist(lengths[1], 200)\n",
    "\n",
    "plt.show()"
   ]
  },
  {
   "cell_type": "markdown",
   "metadata": {},
   "source": [
    "### Building a dictionary"
   ]
  },
  {
   "cell_type": "code",
   "execution_count": 3,
   "metadata": {},
   "outputs": [
    {
     "name": "stdout",
     "output_type": "stream",
     "text": [
      "Loading dictionary from stored file (1193403 bytes)...\n",
      "Top popular words counts: [['UNK', 54382], (',', 191060), ('.', 167323), ('в', 121865), ('num', 70531), ('и', 59470), ('на', 47402), ('с', 26509), ('что', 22411), ('по', 21900), ('эт', 21548), ('не', 21271), ('из', 16381), ('год', 15883), ('он', 14053)]\n",
      "\n",
      "Example word: 3144 => слон\n",
      "\n",
      "Example data: [4, 385, 3, 606, 600, 50, 1918, 1257, 10523, 1302, 540, 1, 89, 359, 255, 2110, 49, 999, 1, 6766]\n",
      "\n",
      "Validation sizes split train / validation: 9176 / 20\n",
      "Validation dataset size: 40\n"
     ]
    }
   ],
   "source": [
    "STORAGE_PATH = './storage/model' # to restore model's knowledge later\n",
    "validation_size = 20 # articles per each class\n",
    "vocabulary_size = 25000\n",
    "\n",
    "def build_dictionary(words):\n",
    "  count = [['UNK', -1]]\n",
    "  count.extend(collections.Counter(words).most_common(vocabulary_size - 1))\n",
    "  dictionary = dict()\n",
    "  for word, _ in count:\n",
    "    dictionary[word] = len(dictionary)\n",
    "  reverse_dictionary = dict(zip(dictionary.values(), dictionary.keys())) \n",
    "\n",
    "  return dictionary, reverse_dictionary, count\n",
    "\n",
    "def build_dataset(words, dictionary, count):\n",
    "  data = list()\n",
    "  unk_count = 0\n",
    "  for word in words:\n",
    "    if word in dictionary:\n",
    "      index = dictionary[word]\n",
    "    else:\n",
    "      index = 0  # dictionary['UNK']\n",
    "      unk_count = unk_count + 1\n",
    "    data.append(index)\n",
    "\n",
    "  count[0][1] = count[0][1] + unk_count\n",
    "\n",
    "  return data\n",
    "\n",
    "# flatten all words into a single bag\n",
    "all_words = [word for corpus in corpora for words in corpus.articles for word in words]\n",
    "\n",
    "dictionary_file_name = f\"{STORAGE_PATH}.dictionary\"\n",
    "if Path(dictionary_file_name).is_file():\n",
    "  dictionary_file_size = os.path.getsize(dictionary_file_name)\n",
    "  print(f\"Loading dictionary from stored file ({dictionary_file_size} bytes)...\")\n",
    "  with open(dictionary_file_name, 'rb') as fp:\n",
    "    dictionary, reverse_dictionary, count = pickle.load(fp)\n",
    "else:\n",
    "  print('Building dictionary from the corpora...')\n",
    "  dictionary, reverse_dictionary, count = build_dictionary(all_words)\n",
    "  print('Saving dictionary on disk for further access...')\n",
    "  with open(dictionary_file_name, 'wb') as fp:\n",
    "    pickle.dump((dictionary, reverse_dictionary, count), fp)\n",
    "  dictionary_file_size = os.path.getsize(dictionary_file_name)\n",
    "  print(f\"Done. It took {dictionary_file_size} bytes on the disk.\")\n",
    "\n",
    "good_data = [build_dataset(article, dictionary, count) for article in corpora[0].articles]\n",
    "bad_data  = [build_dataset(article, dictionary, count) for article in corpora[1].articles]\n",
    "\n",
    "# Splitting between train and validation datasets\n",
    "good_train_data = good_data[:-validation_size]\n",
    "good_validation_data = good_data[-validation_size:]\n",
    "bad_train_data = bad_data[:-validation_size]\n",
    "bad_validation_data = bad_data[-validation_size:]\n",
    "validation_data = [item for ga, ba in zip(good_validation_data, bad_validation_data) for item in [ga, ba]]\n",
    "\n",
    "print(f\"Top popular words counts: {count[:15]}\\n\")\n",
    "print(f\"Example word: {dictionary['слон']} => {reverse_dictionary[dictionary['слон']]}\\n\")\n",
    "print(f'Example data: {good_data[0][:20]}\\n')\n",
    "print(f'Validation sizes split train / validation: {len(good_train_data)} / {len(good_validation_data)}')\n",
    "print(f'Validation dataset size: {len(validation_data)}')"
   ]
  },
  {
   "cell_type": "markdown",
   "metadata": {},
   "source": [
    "Below is an **example** of two training batches spat out by `BatchIterator`:"
   ]
  },
  {
   "cell_type": "code",
   "execution_count": 19,
   "metadata": {},
   "outputs": [
    {
     "name": "stdout",
     "output_type": "stream",
     "text": [
      "7501\n",
      "15002\n",
      "([33, 90, 617, 5927, 1244, 23, 6299, 2, 44, 1], [[1.0, 0.0], [1.0, 0.0], [1.0, 0.0], [1.0, 0.0], [1.0, 0.0], [1.0, 0.0], [1.0, 0.0], [1.0, 0.0], [1.0, 0.0], [1.0, 0.0]], [0.0, 1.0, 1.0, 1.0, 1.0, 1.0, 1.0, 1.0, 1.0, 1.0])\n",
      "['об', 'работ', 'предполага', 'пересмотр', 'представлен', 'о', 'вакуум', '.', 'одн', ',']\n",
      "([1836, 1014, 2472, 17340, 12, 0, 516, 19, 811, 18], [[1.0, 0.0], [1.0, 0.0], [1.0, 0.0], [1.0, 0.0], [1.0, 0.0], [1.0, 0.0], [1.0, 0.0], [1.0, 0.0], [1.0, 0.0], [1.0, 0.0]], [1.0, 1.0, 1.0, 1.0, 1.0, 1.0, 1.0, 1.0, 1.0, 1.0])\n",
      "['выполнен', 'физик', 'майкл', 'маккалош', 'из', 'UNK', 'университет', '(', 'великобритан', ')']\n",
      "[[6, 3952, 2, 4, 13, 2753, 1807, 3877, 2575, 1206], [[1.0, 0.0], [1.0, 0.0], [1.0, 0.0], [1.0, 0.0], [1.0, 0.0], [1.0, 0.0], [1.0, 0.0], [1.0, 0.0], [1.0, 0.0], [1.0, 0.0]], [1.0, 1.0, 1.0, 1.0, 1.0, 1.0, 1.0, 1.0, 1.0, 1.0]]\n",
      "['на', 'трансфер', '.', 'num', 'год', 'реа', 'покупа', 'криштиан', 'роналд', 'барселон']\n",
      "[[3669, 21488, 11946, 2, 4, 756, 21489, 5281, 1212, 13249], [[1.0, 0.0], [1.0, 0.0], [1.0, 0.0], [1.0, 0.0], [1.0, 0.0], [1.0, 0.0], [1.0, 0.0], [1.0, 0.0], [1.0, 0.0], [1.0, 0.0]], [1.0, 1.0, 1.0, 1.0, 1.0, 1.0, 1.0, 1.0, 1.0, 1.0]]\n",
      "['приобрета', 'злата', 'ибрагимович', '.', 'num', 'й', 'мадридц', 'оформля', 'переход', 'гарет']\n"
     ]
    }
   ],
   "source": [
    "batch_size = 2 # Number of articles fed into a model at once\n",
    "num_unrollings = 10 # Number of recurrent steps\n",
    "\n",
    "good = [1., 0.] # Representation of first class\n",
    "bad  = [0., 1.] # Representation of second class\n",
    "\n",
    "min_size = min(len(good_train_data), len(bad_train_data))\n",
    "articles_pool = [(data, good) for data in good_train_data[:min_size]] + \\\n",
    "                [(data, bad)  for data in bad_train_data[:min_size]]\n",
    "\n",
    "print(min_size)\n",
    "print(len(articles_pool))\n",
    "\n",
    "conveyors = [Conveyor(articles_pool, num_unrollings) for _ in range(batch_size)]\n",
    "\n",
    "for _ in range(2):\n",
    "  bundle = conveyors[0].next()\n",
    "  print(bundle)\n",
    "  print([reverse_dictionary[index] for index in bundle[0]])\n",
    "conveyors[0].rewind()\n",
    "\n",
    "batches = BatchIterator(10, good_train_data, bad_train_data, good, bad)\n",
    "\n",
    "for i in range(20):\n",
    "  batch = batches.next()\n",
    "  if i > 17:\n",
    "    print(batch)\n",
    "    print([reverse_dictionary[index] for index in batch[0]])\n",
    "\n",
    "batches.rewind()"
   ]
  },
  {
   "cell_type": "markdown",
   "metadata": {},
   "source": [
    "## 2. LSTM Model"
   ]
  },
  {
   "cell_type": "code",
   "execution_count": 27,
   "metadata": {},
   "outputs": [
    {
     "name": "stdout",
     "output_type": "stream",
     "text": [
      "lstm_input_batch.shape: (2, 128)\n",
      "lstm_input_batch.shape: (2, 128)\n",
      "lstm_input_batch.shape: (2, 128)\n",
      "lstm_input_batch.shape: (2, 128)\n",
      "lstm_input_batch.shape: (2, 128)\n",
      "lstm_input_batch.shape: (2, 128)\n",
      "lstm_input_batch.shape: (2, 128)\n",
      "lstm_input_batch.shape: (2, 128)\n",
      "lstm_input_batch.shape: (2, 128)\n",
      "lstm_input_batch.shape: (2, 128)\n",
      "10\n",
      "Each output: Tensor(\"mul_29:0\", shape=(2, 64), dtype=float32)\n",
      "Joined_output: Tensor(\"Reshape_10:0\", shape=(20, 64), dtype=float32)\n",
      "joined_labels: Tensor(\"Reshape_11:0\", shape=(20, 2), dtype=float32)\n",
      "logits: Tensor(\"xw_plus_b:0\", shape=(20, 2), dtype=float32)\n"
     ]
    }
   ],
   "source": [
    "num_nodes = 64 # Dimension of lstm cell\n",
    "num_classes = 2 # Number of classes among which to predict\n",
    "embedding_size = 128 # Dimension of a word vector\n",
    "# hidden_layer_size = 32\n",
    "\n",
    "graph = tf.Graph()\n",
    "with graph.as_default():\n",
    "\n",
    "  # Parameters:\n",
    "  # Input gate: input, previous output, and bias.\n",
    "  ix = tf.Variable(tf.truncated_normal([embedding_size, num_nodes], -0.1, 0.1), name='ix')\n",
    "  im = tf.Variable(tf.truncated_normal([num_nodes, num_nodes], -0.1, 0.1), name='im')\n",
    "  ib = tf.Variable(tf.zeros([1, num_nodes]), name='ib')\n",
    "  # Forget gate: input, previous output, and bias.\n",
    "  fx = tf.Variable(tf.truncated_normal([embedding_size, num_nodes], -0.1, 0.1), name='fx')\n",
    "  fm = tf.Variable(tf.truncated_normal([num_nodes, num_nodes], -0.1, 0.1), name='fm')\n",
    "  fb = tf.Variable(tf.zeros([1, num_nodes]), name='fb')\n",
    "  # Output gate: input, previous output, and bias.\n",
    "  ox = tf.Variable(tf.truncated_normal([embedding_size, num_nodes], -0.1, 0.1), name='ox')\n",
    "  om = tf.Variable(tf.truncated_normal([num_nodes, num_nodes], -0.1, 0.1), name='om')\n",
    "  ob = tf.Variable(tf.zeros([1, num_nodes]), name='ob')\n",
    "  # Memory cell: input, state and bias.\n",
    "  cx = tf.Variable(tf.truncated_normal([embedding_size, num_nodes], -0.1, 0.1), name='cx')\n",
    "  cm = tf.Variable(tf.truncated_normal([num_nodes, num_nodes], -0.1, 0.1), name='cm')\n",
    "  cb = tf.Variable(tf.zeros([1, num_nodes]), name='cb')\n",
    "  # Variables saving state across unrollings.\n",
    "  saved_output = tf.Variable(tf.zeros([batch_size, num_nodes]), trainable=False)\n",
    "  saved_state = tf.Variable(tf.zeros([batch_size, num_nodes]), trainable=False)\n",
    "  # Classifier weights and biases.\n",
    "  w = tf.Variable(tf.truncated_normal([num_nodes, num_classes], -0.1, 0.1), name='w')\n",
    "  b = tf.Variable(tf.zeros([num_classes]), name='b')\n",
    "  # w = tf.Variable(tf.truncated_normal([num_nodes, hidden_layer_size], -0.1, 0.1), name='w')\n",
    "  # b = tf.Variable(tf.zeros([hidden_layer_size]), name='b')\n",
    "  # hw = tf.Variable(tf.truncated_normal([hidden_layer_size, num_classes], -0.1, 0.1), name='hw')\n",
    "  # hb = tf.Variable(tf.zeros([num_classes]), name='hb')\n",
    "  # Embeddings\n",
    "  embeddings = tf.Variable(tf.random_uniform([vocabulary_size, embedding_size], -1.0, 1.0), name='embeddings')\n",
    "\n",
    "\n",
    "  # Definition of the cell computation.\n",
    "  def lstm_cell(i, o, state):\n",
    "    # Create an LSTM cell\n",
    "    input_gate =  tf.sigmoid(tf.matmul(i, ix) + tf.matmul(o, im) + ib)\n",
    "    forget_gate = tf.sigmoid(tf.matmul(i, fx) + tf.matmul(o, fm) + fb)\n",
    "    output_gate = tf.sigmoid(tf.matmul(i, ox) + tf.matmul(o, om) + ob)\n",
    "    update = tf.matmul(i, cx) + tf.matmul(o, cm) + cb\n",
    "    state = forget_gate * state + input_gate * tf.tanh(update)\n",
    "\n",
    "    return output_gate * tf.tanh(state), state\n",
    "\n",
    "  # Input data.\n",
    "  train_inputs   = tf.placeholder(tf.int32,   shape=[batch_size, num_unrollings])\n",
    "  train_clearers = tf.placeholder(tf.float32, shape=[batch_size, num_unrollings])\n",
    "  train_labels   = tf.placeholder(tf.float32, shape=[batch_size, num_unrollings, num_classes])\n",
    "  # train_inputs   = tf.placeholder(tf.int32,   shape=[num_unrollings])               # old\n",
    "  # train_clearers = tf.placeholder(tf.float32, shape=[num_unrollings])               # old\n",
    "  # train_labels   = tf.placeholder(tf.float32, shape=[num_unrollings, num_classes])  # old\n",
    "\n",
    "\n",
    "\n",
    "  # Unrolled LSTM loop.\n",
    "  lstm_outputs = list()\n",
    "  output = saved_output\n",
    "  state  = saved_state\n",
    "  embedded_batch = tf.nn.embedding_lookup(embeddings, train_inputs)\n",
    "  lstm_inputs = tf.unstack(embedded_batch, axis=1) # list of ~ (batch_size, embedding_size)\n",
    "  lstm_state_clearers = tf.unstack(train_clearers, axis=1) # list of ~ (batch_size, )\n",
    "  # lstm_inputs = tf.unstack(embedded_batch, axis=0) # old\n",
    "  # lstm_state_clearers = tf.unstack(train_clearers, axis=0) # old\n",
    "\n",
    "  for lstm_input_batch, state_clearers_batch in zip(lstm_inputs, lstm_state_clearers):\n",
    "    # reshaped_lstm_input = tf.reshape(lstm_input_batch, (1, embedding_size)) # old\n",
    "    # print(f\"reshaped_lstm_input.shape: {reshaped_lstm_input.shape}\")        # old\n",
    "    # output, state = lstm_cell(reshaped_lstm_input,                          # old\n",
    "    #                           tf.multiply(state_clearers_batch, output),    # old\n",
    "    #                           tf.multiply(state_clearers_batch, state))     # old\n",
    "\n",
    "    print(f\"lstm_input_batch.shape: {lstm_input_batch.shape}\")\n",
    "    reshaped_clearers = tf.reshape(state_clearers_batch, (batch_size, 1))\n",
    "    output, state = lstm_cell(lstm_input_batch,\n",
    "                              tf.multiply(reshaped_clearers, output),\n",
    "                              tf.multiply(reshaped_clearers, state))\n",
    "\n",
    "    lstm_outputs.append(output)\n",
    "\n",
    "  print(len(lstm_outputs))\n",
    "  # State saving across unrollings.\n",
    "  with tf.control_dependencies([saved_output.assign(output),\n",
    "                                saved_state.assign(state)]):\n",
    "    # Classifier.\n",
    "    # here we `concat` instead of `stack` because we will not take any recurrent steps from now on\n",
    "    # joined_output = tf.concat(lstm_outputs, 0)\n",
    "    joined_output = tf.reshape(tf.stack(lstm_outputs, axis=1), (-1, num_nodes))\n",
    "    print(f\"Each output: {output}\")\n",
    "    print(f\"Joined_output: {joined_output}\")\n",
    "    \n",
    "    joined_labels = tf.reshape(train_labels, (-1, num_classes))\n",
    "\n",
    "    logits = tf.nn.xw_plus_b(joined_output, w, b)\n",
    "\n",
    "    # hidden_layer = tf.nn.xw_plus_b(joined_output, w, b)\n",
    "    # activation = tf.nn.tanh(hidden_layer)\n",
    "    # logits = tf.nn.xw_plus_b(activation, hw, hb)\n",
    "\n",
    "    loss = tf.reduce_mean(tf.nn.softmax_cross_entropy_with_logits(\n",
    "      labels=joined_labels,\n",
    "      logits=logits\n",
    "    ))\n",
    "\n",
    "\n",
    "\n",
    "    print(f\"joined_labels: {joined_labels}\")\n",
    "    print(f\"logits: {logits}\")\n",
    "\n",
    "\n",
    "  # Optimizer.\n",
    "  global_step = tf.Variable(0, trainable=False, name='global_step')\n",
    "  learning_rate = tf.train.exponential_decay(4.0, global_step, 5000, 0.8, staircase=True)\n",
    "  optimizer = tf.train.GradientDescentOptimizer(learning_rate)\n",
    "  gradients, v = zip(*optimizer.compute_gradients(loss))\n",
    "  gradients, _ = tf.clip_by_global_norm(gradients, 1.25)\n",
    "  optimizer = optimizer.apply_gradients(\n",
    "    zip(gradients, v), global_step=global_step)\n",
    "\n",
    "  # Predictions.\n",
    "  train_prediction = tf.nn.softmax(logits)\n",
    "\n",
    "  # Storing knowledge to the disk\n",
    "  saver = tf.train.Saver()\n",
    "\n",
    "  # Sampling and validation evaluation\n",
    "  # ==================================\n",
    "  #\n",
    "  # Sampling eval: one unrolling, no state clearers\n",
    "  sample_input = tf.placeholder(tf.int32, shape=[1])\n",
    "  sample_lstm_input = tf.nn.embedding_lookup(embeddings, sample_input)\n",
    "  saved_sample_output = tf.Variable(tf.zeros([1, num_nodes]), trainable=False)\n",
    "  saved_sample_state = tf.Variable(tf.zeros([1, num_nodes]), trainable=False)\n",
    "  reset_sample_state = tf.group(\n",
    "    saved_sample_output.assign(tf.zeros([1, num_nodes])),\n",
    "    saved_sample_state.assign(tf.zeros([1, num_nodes])))\n",
    "  sample_output, sample_state = lstm_cell(\n",
    "    sample_lstm_input, saved_sample_output, saved_sample_state)\n",
    "  with tf.control_dependencies([saved_sample_output.assign(sample_output),\n",
    "                                saved_sample_state.assign(sample_state)]):\n",
    "    # hidden_sample_pred = tf.nn.xw_plus_b(sample_output, w, b)\n",
    "    # sample_activation = tf.nn.sigmoid(hidden_sample_pred)\n",
    "    # sample_prediction = tf.nn.softmax(tf.nn.xw_plus_b(sample_activation, hw, hb))\n",
    "    sample_prediction = tf.nn.softmax(tf.nn.xw_plus_b(sample_output, w, b))\n",
    "\n",
    "  valid_labels = tf.placeholder(tf.float32, shape=[None, num_classes])\n",
    "  valid_logits = tf.placeholder(tf.float32, shape=[None, num_classes])  \n",
    "  validation_loss = tf.reduce_mean(tf.nn.softmax_cross_entropy_with_logits(\n",
    "    labels=valid_labels,\n",
    "    logits=valid_logits\n",
    "  ))"
   ]
  },
  {
   "cell_type": "markdown",
   "metadata": {},
   "source": [
    "## 3. Training"
   ]
  },
  {
   "cell_type": "markdown",
   "metadata": {},
   "source": [
    "### Representation helpers\n",
    "\n",
    "Before we dive into the very learning - let us define some useful helpers to better represent training process."
   ]
  },
  {
   "cell_type": "code",
   "execution_count": 28,
   "metadata": {
    "collapsed": true
   },
   "outputs": [],
   "source": [
    "def print_md(string):\n",
    "  display(Markdown(string))\n",
    "\n",
    "def colored_p(text, prediction):\n",
    "  g, r = [round(probability * 255) for probability in prediction]\n",
    "  return f\"<span style='color: rgb({r}, {g}, 0)'>{text}</span>\"\n",
    "\n",
    "def represent(words, predictions, tail=3):\n",
    "  result = []\n",
    "  temp = []\n",
    "  changed_ago = 0\n",
    "  for word, label, i in zip(words, predictions, range(len(words))):\n",
    "    word_to_add = colored_p(word, label)\n",
    "\n",
    "    if i == 0:\n",
    "      temp.append(word_to_add)\n",
    "      continue\n",
    "\n",
    "    if label_to_color(predictions[i - 1]) == label_to_color(label):\n",
    "      temp.append(word_to_add)\n",
    "    else:\n",
    "      if len(temp) > tail * 2:\n",
    "        result += temp[:tail] + ['...'] + temp[-tail:]\n",
    "      else:\n",
    "        result += temp\n",
    "      temp = [word_to_add]\n",
    "\n",
    "  if len(temp) > tail * 2:\n",
    "    result += temp[:tail] + ['...'] + temp[-tail:]\n",
    "  else:\n",
    "    result += temp\n",
    "\n",
    "  overall_label = colored_p('=>', predictions[-1])\n",
    "  article = \" \".join(result)\n",
    "\n",
    "  return f\"{overall_label} {article}\"\n",
    "\n",
    "def label_to_color(label):\n",
    "  if abs(label[0] - label[1]) < 0.2: color = 'black'\n",
    "  elif label[0] > label[1]:          color = 'green'\n",
    "  else:                              color = 'red'\n",
    "\n",
    "  return color\n",
    "\n",
    "def colored(text, color='black'):\n",
    "  colors = { 'black':'30',\n",
    "             'red':'31',\n",
    "             'green':'32',\n",
    "             'yellow':'33',\n",
    "             'blue':'34',\n",
    "             'purple':'35',\n",
    "             'sea-blue':'36' }\n",
    "\n",
    "  return f\"\\x1b[{colors[color]}m{text}\\x1b[0m\"\n",
    "\n",
    "\n",
    "def logprob(predictions, labels):\n",
    "  \"\"\"Log-probability of the true labels in a predicted batch.\"\"\"\n",
    "  predictions[predictions < 1e-10] = 1e-10\n",
    "  return np.sum(np.multiply(labels, -np.log(predictions))) / labels.shape[0]"
   ]
  },
  {
   "cell_type": "markdown",
   "metadata": {},
   "source": [
    "### Check if trained yet"
   ]
  },
  {
   "cell_type": "code",
   "execution_count": 29,
   "metadata": {},
   "outputs": [
    {
     "name": "stdout",
     "output_type": "stream",
     "text": [
      "The model will be restored from the storage: True\n"
     ]
    }
   ],
   "source": [
    "is_trained = tf.train.checkpoint_exists(STORAGE_PATH)\n",
    "\n",
    "print(f\"The model will be restored from the storage: {is_trained}\")"
   ]
  },
  {
   "cell_type": "markdown",
   "metadata": {},
   "source": [
    "### Training process"
   ]
  },
  {
   "cell_type": "code",
   "execution_count": 30,
   "metadata": {},
   "outputs": [
    {
     "name": "stdout",
     "output_type": "stream",
     "text": [
      "The model has been trained yet. Fetching logs from the storage...\n",
      "Done\n",
      "Training...\n",
      "Initialized\n",
      "Average loss at step 0: 0.7409, learning rate: 4.0000\n",
      "Average loss at step 100: 0.3155, learning rate: 4.0000\n",
      "Average loss at step 200: 0.5110, learning rate: 4.0000\n",
      "Average loss at step 300: 0.6069, learning rate: 4.0000\n",
      "Average loss at step 400: 0.5028, learning rate: 4.0000\n",
      "Average loss at step 500: 0.3642, learning rate: 4.0000\n",
      "Average loss at step 600: 0.3918, learning rate: 4.0000\n",
      "Average loss at step 700: 0.2704, learning rate: 4.0000\n",
      "Average loss at step 800: 0.2586, learning rate: 4.0000\n",
      "Average loss at step 900: 0.3381, learning rate: 4.0000\n",
      "Average loss at step 1000: 0.3003, learning rate: 4.0000\n",
      "Average loss at step 1100: 0.2895, learning rate: 4.0000\n",
      "Average loss at step 1200: 0.3391, learning rate: 4.0000\n",
      "Average loss at step 1300: 0.1657, learning rate: 4.0000\n",
      "Average loss at step 1400: 0.1238, learning rate: 4.0000\n",
      "Average loss at step 1500: 0.3602, learning rate: 4.0000\n",
      "Average loss at step 1600: 0.4223, learning rate: 4.0000\n",
      "Average loss at step 1700: 0.3652, learning rate: 4.0000\n",
      "Average loss at step 1800: 0.1329, learning rate: 4.0000\n",
      "Average loss at step 1900: 0.0849, learning rate: 4.0000\n",
      "Average loss at step 2000: 0.2526, learning rate: 4.0000\n",
      "Average loss at step 2100: 0.0685, learning rate: 4.0000\n",
      "Average loss at step 2200: 0.1214, learning rate: 4.0000\n",
      "Average loss at step 2300: 0.1776, learning rate: 4.0000\n",
      "Average loss at step 2400: 0.0336, learning rate: 4.0000\n",
      "Average loss at step 2500: 0.1377, learning rate: 4.0000\n",
      "Average loss at step 2600: 0.0872, learning rate: 4.0000\n",
      "Average loss at step 2700: 0.0708, learning rate: 4.0000\n",
      "Average loss at step 2800: 0.1797, learning rate: 4.0000\n",
      "Average loss at step 2900: 0.1243, learning rate: 4.0000\n",
      "Average loss at step 3000: 0.0697, learning rate: 4.0000\n",
      "Average loss at step 3100: 0.3961, learning rate: 4.0000\n",
      "Average loss at step 3200: 0.2646, learning rate: 4.0000\n",
      "Average loss at step 3300: 0.1252, learning rate: 4.0000\n",
      "Average loss at step 3400: 0.3263, learning rate: 4.0000\n",
      "Average loss at step 3500: 0.1909, learning rate: 4.0000\n",
      "Average loss at step 3600: 0.1687, learning rate: 4.0000\n",
      "Average loss at step 3700: 0.1138, learning rate: 4.0000\n",
      "Average loss at step 3800: 0.0876, learning rate: 4.0000\n",
      "Average loss at step 3900: 0.3910, learning rate: 4.0000\n",
      "Average loss at step 4000: 0.2504, learning rate: 4.0000\n",
      "Average loss at step 4100: 0.0418, learning rate: 4.0000\n",
      "Average loss at step 4200: 0.1136, learning rate: 4.0000\n",
      "Average loss at step 4300: 0.2167, learning rate: 4.0000\n",
      "Average loss at step 4400: 0.3254, learning rate: 4.0000\n",
      "Average loss at step 4500: 0.1287, learning rate: 4.0000\n",
      "Average loss at step 4600: 0.2239, learning rate: 4.0000\n",
      "Average loss at step 4700: 0.2735, learning rate: 4.0000\n",
      "Average loss at step 4800: 0.2255, learning rate: 4.0000\n",
      "Average loss at step 4900: 0.1251, learning rate: 4.0000\n",
      "Average loss at step 5000: 0.1898, learning rate: 3.2000\n",
      "Average loss at step 5100: 0.1266, learning rate: 3.2000\n",
      "Average loss at step 5200: 0.1340, learning rate: 3.2000\n",
      "Average loss at step 5300: 0.0485, learning rate: 3.2000\n",
      "Average loss at step 5400: 0.1420, learning rate: 3.2000\n",
      "Average loss at step 5500: 0.4191, learning rate: 3.2000\n",
      "Average loss at step 5600: 0.1389, learning rate: 3.2000\n",
      "Average loss at step 5700: 0.0538, learning rate: 3.2000\n",
      "Average loss at step 5800: 0.1379, learning rate: 3.2000\n",
      "Average loss at step 5900: 0.1937, learning rate: 3.2000\n",
      "Average loss at step 6000: 0.0334, learning rate: 3.2000\n",
      "Average loss at step 6100: 0.1171, learning rate: 3.2000\n",
      "Average loss at step 6200: 0.1161, learning rate: 3.2000\n",
      "Average loss at step 6300: 0.0166, learning rate: 3.2000\n",
      "Average loss at step 6400: 0.0824, learning rate: 3.2000\n",
      "Average loss at step 6500: 0.0585, learning rate: 3.2000\n",
      "Average loss at step 6600: 0.2407, learning rate: 3.2000\n",
      "Average loss at step 6700: 0.0468, learning rate: 3.2000\n",
      "Average loss at step 6800: 0.2380, learning rate: 3.2000\n",
      "Average loss at step 6900: 0.1883, learning rate: 3.2000\n",
      "Average loss at step 7000: 0.3145, learning rate: 3.2000\n",
      "Average loss at step 7100: 0.1716, learning rate: 3.2000\n",
      "Average loss at step 7200: 0.1108, learning rate: 3.2000\n",
      "Average loss at step 7300: 0.1411, learning rate: 3.2000\n",
      "Average loss at step 7400: 0.2099, learning rate: 3.2000\n",
      "Average loss at step 7500: 0.0642, learning rate: 3.2000\n",
      "Average loss at step 7600: 0.0335, learning rate: 3.2000\n",
      "Average loss at step 7700: 0.0414, learning rate: 3.2000\n",
      "Average loss at step 7800: 0.2761, learning rate: 3.2000\n",
      "Average loss at step 7900: 0.3690, learning rate: 3.2000\n",
      "Average loss at step 8000: 0.1530, learning rate: 3.2000\n",
      "Average loss at step 8100: 0.1065, learning rate: 3.2000\n",
      "Average loss at step 8200: 0.0309, learning rate: 3.2000\n",
      "Average loss at step 8300: 0.0441, learning rate: 3.2000\n",
      "Average loss at step 8400: 0.3431, learning rate: 3.2000\n",
      "Average loss at step 8500: 0.1226, learning rate: 3.2000\n",
      "Average loss at step 8600: 0.0667, learning rate: 3.2000\n",
      "Average loss at step 8700: 0.1076, learning rate: 3.2000\n",
      "Average loss at step 8800: 0.0609, learning rate: 3.2000\n",
      "Average loss at step 8900: 0.0123, learning rate: 3.2000\n",
      "Average loss at step 9000: 0.0938, learning rate: 3.2000\n",
      "Average loss at step 9100: 0.1064, learning rate: 3.2000\n",
      "Average loss at step 9200: 0.1992, learning rate: 3.2000\n",
      "Average loss at step 9300: 0.0606, learning rate: 3.2000\n",
      "Average loss at step 9400: 0.1442, learning rate: 3.2000\n",
      "Average loss at step 9500: 0.2577, learning rate: 3.2000\n",
      "Average loss at step 9600: 0.0768, learning rate: 3.2000\n",
      "Average loss at step 9700: 0.2390, learning rate: 3.2000\n",
      "Average loss at step 9800: 0.0997, learning rate: 3.2000\n",
      "Average loss at step 9900: 0.0763, learning rate: 3.2000\n",
      "Average loss at step 10000: 0.2454, learning rate: 2.5600\n",
      "Average loss at step 10100: 0.1852, learning rate: 2.5600\n",
      "Average loss at step 10200: 0.0493, learning rate: 2.5600\n",
      "Average loss at step 10300: 0.2043, learning rate: 2.5600\n",
      "Average loss at step 10400: 0.2545, learning rate: 2.5600\n",
      "Average loss at step 10500: 0.0356, learning rate: 2.5600\n",
      "Average loss at step 10600: 0.1123, learning rate: 2.5600\n",
      "Average loss at step 10700: 0.0208, learning rate: 2.5600\n",
      "Average loss at step 10800: 0.0159, learning rate: 2.5600\n",
      "Average loss at step 10900: 0.0193, learning rate: 2.5600\n",
      "Average loss at step 11000: 0.0409, learning rate: 2.5600\n",
      "Average loss at step 11100: 0.0123, learning rate: 2.5600\n",
      "Average loss at step 11200: 0.1337, learning rate: 2.5600\n",
      "Average loss at step 11300: 0.3187, learning rate: 2.5600\n",
      "Average loss at step 11400: 0.1025, learning rate: 2.5600\n",
      "Average loss at step 11500: 0.0299, learning rate: 2.5600\n",
      "Average loss at step 11600: 0.2287, learning rate: 2.5600\n",
      "Average loss at step 11700: 0.1923, learning rate: 2.5600\n",
      "Average loss at step 11800: 0.0473, learning rate: 2.5600\n",
      "Average loss at step 11900: 0.3039, learning rate: 2.5600\n",
      "Average loss at step 12000: 0.1578, learning rate: 2.5600\n",
      "Average loss at step 12100: 0.1133, learning rate: 2.5600\n",
      "Average loss at step 12200: 0.2003, learning rate: 2.5600\n",
      "Average loss at step 12300: 0.0901, learning rate: 2.5600\n",
      "Average loss at step 12400: 0.0336, learning rate: 2.5600\n",
      "Average loss at step 12500: 0.2899, learning rate: 2.5600\n",
      "Average loss at step 12600: 0.0809, learning rate: 2.5600\n",
      "Average loss at step 12700: 0.1873, learning rate: 2.5600\n",
      "Average loss at step 12800: 0.0736, learning rate: 2.5600\n",
      "Average loss at step 12900: 0.0145, learning rate: 2.5600\n",
      "Average loss at step 13000: 0.1014, learning rate: 2.5600\n",
      "Average loss at step 13100: 0.0372, learning rate: 2.5600\n",
      "Average loss at step 13200: 0.2156, learning rate: 2.5600\n",
      "Average loss at step 13300: 0.0474, learning rate: 2.5600\n",
      "Average loss at step 13400: 0.0230, learning rate: 2.5600\n",
      "Average loss at step 13500: 0.0417, learning rate: 2.5600\n",
      "Average loss at step 13600: 0.2939, learning rate: 2.5600\n",
      "Average loss at step 13700: 0.1317, learning rate: 2.5600\n",
      "Average loss at step 13800: 0.0068, learning rate: 2.5600\n",
      "Average loss at step 13900: 0.1328, learning rate: 2.5600\n",
      "Average loss at step 14000: 0.3249, learning rate: 2.5600\n",
      "Average loss at step 14100: 0.1364, learning rate: 2.5600\n"
     ]
    },
    {
     "name": "stdout",
     "output_type": "stream",
     "text": [
      "Average loss at step 14200: 0.2833, learning rate: 2.5600\n",
      "Average loss at step 14300: 0.1848, learning rate: 2.5600\n",
      "Average loss at step 14400: 0.0452, learning rate: 2.5600\n",
      "Average loss at step 14500: 0.2235, learning rate: 2.5600\n",
      "Average loss at step 14600: 0.0616, learning rate: 2.5600\n",
      "Average loss at step 14700: 0.1788, learning rate: 2.5600\n",
      "Average loss at step 14800: 0.0855, learning rate: 2.5600\n",
      "Average loss at step 14900: 0.0369, learning rate: 2.5600\n",
      "Average loss at step 15000: 0.0304, learning rate: 2.0480\n",
      "Average loss at step 15100: 0.2786, learning rate: 2.0480\n",
      "Average loss at step 15200: 0.0735, learning rate: 2.0480\n",
      "Average loss at step 15300: 0.0969, learning rate: 2.0480\n",
      "Average loss at step 15400: 0.1626, learning rate: 2.0480\n",
      "Average loss at step 15500: 0.1969, learning rate: 2.0480\n",
      "Average loss at step 15600: 0.1275, learning rate: 2.0480\n",
      "Average loss at step 15700: 0.0787, learning rate: 2.0480\n",
      "Average loss at step 15800: 0.0565, learning rate: 2.0480\n",
      "Average loss at step 15900: 0.0655, learning rate: 2.0480\n",
      "Average loss at step 16000: 0.0786, learning rate: 2.0480\n",
      "Average loss at step 16100: 0.0915, learning rate: 2.0480\n",
      "Average loss at step 16200: 0.0197, learning rate: 2.0480\n",
      "Average loss at step 16300: 0.0130, learning rate: 2.0480\n",
      "Average loss at step 16400: 0.0984, learning rate: 2.0480\n",
      "Average loss at step 16500: 0.0697, learning rate: 2.0480\n",
      "Average loss at step 16600: 0.1084, learning rate: 2.0480\n",
      "Average loss at step 16700: 0.2480, learning rate: 2.0480\n",
      "Average loss at step 16800: 0.2939, learning rate: 2.0480\n",
      "Average loss at step 16900: 0.0357, learning rate: 2.0480\n",
      "Average loss at step 17000: 0.1739, learning rate: 2.0480\n",
      "Average loss at step 17100: 0.0436, learning rate: 2.0480\n",
      "Average loss at step 17200: 0.0954, learning rate: 2.0480\n",
      "Average loss at step 17300: 0.1927, learning rate: 2.0480\n",
      "Average loss at step 17400: 0.2214, learning rate: 2.0480\n",
      "Average loss at step 17500: 0.0707, learning rate: 2.0480\n",
      "Average loss at step 17600: 0.0641, learning rate: 2.0480\n",
      "Average loss at step 17700: 0.0719, learning rate: 2.0480\n",
      "Average loss at step 17800: 0.1025, learning rate: 2.0480\n",
      "Average loss at step 17900: 0.0386, learning rate: 2.0480\n",
      "Average loss at step 18000: 0.0896, learning rate: 2.0480\n",
      "Average loss at step 18100: 0.2022, learning rate: 2.0480\n",
      "Average loss at step 18200: 0.0478, learning rate: 2.0480\n",
      "Average loss at step 18300: 0.1434, learning rate: 2.0480\n",
      "Average loss at step 18400: 0.0372, learning rate: 2.0480\n",
      "Average loss at step 18500: 0.0546, learning rate: 2.0480\n",
      "Average loss at step 18600: 0.0734, learning rate: 2.0480\n",
      "Average loss at step 18700: 0.2820, learning rate: 2.0480\n",
      "Average loss at step 18800: 0.0361, learning rate: 2.0480\n",
      "Average loss at step 18900: 0.0362, learning rate: 2.0480\n",
      "Average loss at step 19000: 0.0470, learning rate: 2.0480\n",
      "Average loss at step 19100: 0.0220, learning rate: 2.0480\n",
      "Average loss at step 19200: 0.1306, learning rate: 2.0480\n",
      "Average loss at step 19300: 0.0101, learning rate: 2.0480\n",
      "Average loss at step 19400: 0.1992, learning rate: 2.0480\n",
      "Average loss at step 19500: 0.0331, learning rate: 2.0480\n",
      "Average loss at step 19600: 0.0193, learning rate: 2.0480\n",
      "Average loss at step 19700: 0.1843, learning rate: 2.0480\n",
      "Average loss at step 19800: 0.0731, learning rate: 2.0480\n",
      "Average loss at step 19900: 0.0240, learning rate: 2.0480\n",
      "Average loss at step 20000: 0.0359, learning rate: 1.6384\n",
      "Learning finished in 2.9 minutes.\n"
     ]
    }
   ],
   "source": [
    "num_steps = 20001\n",
    "summary_frequency = 100\n",
    "# validation_frequencies = [1000, 5000, 30000, 60000, 90000]\n",
    "\n",
    "if is_trained:\n",
    "  print(\"The model has been trained yet. Fetching logs from the storage...\")\n",
    "  with open(f\"{STORAGE_PATH}.log\", 'rb') as fp:\n",
    "    losses = pickle.load(fp)\n",
    "  print(\"Done\")\n",
    "# else:\n",
    "  print(\"Training...\")\n",
    "  with tf.Session(graph=graph) as session:\n",
    "    tf.global_variables_initializer().run()\n",
    "\n",
    "    print('Initialized')\n",
    "    mean_loss = 0\n",
    "    losses   = []\n",
    "    v_losses = []\n",
    "    start_at = time.time()\n",
    "    for step in range(num_steps):\n",
    "      feed = ([], [], [])\n",
    "      for conveyor in conveyors:\n",
    "        bundle = conveyor.next()\n",
    "        feed[0].append(bundle[0])\n",
    "        feed[1].append(bundle[1])\n",
    "        feed[2].append(bundle[2])\n",
    "\n",
    "      feed_dict = { train_inputs: feed[0],\n",
    "                    train_labels: feed[1],\n",
    "                    train_clearers: feed[2] }\n",
    "\n",
    "      # batch = batches.next()\n",
    "      # feed_dict = { train_inputs: [batch[0]],\n",
    "      #               train_labels: [batch[1]],\n",
    "      #               train_clearers: [batch[2]] }\n",
    "\n",
    "      _, l, lr = session.run(\n",
    "        [optimizer, loss, learning_rate], feed_dict=feed_dict)\n",
    "      mean_loss += l\n",
    "\n",
    "      if step % summary_frequency == 0:\n",
    "        if step > 0:\n",
    "          # The mean loss is an estimate of the loss over the last few batches.\n",
    "          mean_loss = mean_loss / summary_frequency\n",
    "\n",
    "#         # ======================================== Validation\n",
    "#         if step % (summary_frequency * 4) == 0:\n",
    "#           v_start_at = time.time()\n",
    "\n",
    "#           for i, article in enumerate(validation_data):\n",
    "#             logits = []\n",
    "#             reset_sample_state.run()\n",
    "#             current_label = good if i % 2 == 0 else bad\n",
    "#             labels = [current_label] * len(article)\n",
    "\n",
    "#             for word in article:\n",
    "#               prediction = sample_prediction.eval({ sample_input: [word] })\n",
    "#               logits.append(prediction[0])\n",
    "\n",
    "#           v_loss = validation_loss.eval({ valid_logits: logits, valid_labels: labels })\n",
    "#           v_losses.append(v_loss)\n",
    "#           v_taken = (time.time() - v_start_at)\n",
    "#           print(f\"Validation loss: {v_loss:.4f}, taken: {v_taken:.2f} seconds\")\n",
    "#         # ======================================== Validation\n",
    "\n",
    "        print('Average loss at step %d: %.4f, learning rate: %.4f' % (step, mean_loss, lr))\n",
    "\n",
    "        losses.append(mean_loss)\n",
    "        mean_loss = 0\n",
    "\n",
    "    taken = (time.time() - start_at) / 60\n",
    "    print(f\"Learning finished in {taken:.1f} minutes.\")\n",
    "\n",
    "    # save what have been learned\n",
    "    saver.save(session, STORAGE_PATH)\n",
    "    with open(f\"{STORAGE_PATH}.log\", 'wb') as fp:\n",
    "      pickle.dump(losses, fp)"
   ]
  },
  {
   "cell_type": "code",
   "execution_count": 31,
   "metadata": {},
   "outputs": [
    {
     "data": {
      "image/png": "[encoded data removed]",
      "text/plain": [
       "<matplotlib.figure.Figure at 0x11d0450b8>"
      ]
     },
     "metadata": {},
     "output_type": "display_data"
    }
   ],
   "source": [
    "plt.figure().set_size_inches(15, 4)\n",
    "\n",
    "x_axis  = [n * summary_frequency for n in range(0, len(losses))]\n",
    "vx_axis = [n * summary_frequency * 4 for n in range(0, len(v_losses))]\n",
    "# for data in [losses, v_losses]:\n",
    "plt.plot(x_axis, losses)\n",
    "plt.plot(vx_axis, v_losses)\n",
    "plt.grid()\n",
    "\n",
    "plt.show()"
   ]
  },
  {
   "cell_type": "markdown",
   "metadata": {},
   "source": [
    "## 4. Having fun"
   ]
  },
  {
   "cell_type": "markdown",
   "metadata": {},
   "source": [
    "Let us now see the world with neural network's eyes.\n",
    "\n",
    "First recollect what the model has learned:"
   ]
  },
  {
   "cell_type": "code",
   "execution_count": 32,
   "metadata": {
    "collapsed": true
   },
   "outputs": [],
   "source": [
    "def evaluate(articles, session):\n",
    "  for article in articles:\n",
    "    session.run(reset_sample_state)\n",
    "    predicted = []\n",
    "    for word in article:\n",
    "      prediction = session.run(sample_prediction, { sample_input: [dictionary[word]] })\n",
    "      predicted.append(prediction[0])\n",
    "\n",
    "    print_md(represent(article, predicted))"
   ]
  },
  {
   "cell_type": "markdown",
   "metadata": {},
   "source": [
    "Let's ask to evaluate some provoking statements:"
   ]
  },
  {
   "cell_type": "code",
   "execution_count": 34,
   "metadata": {},
   "outputs": [
    {
     "name": "stdout",
     "output_type": "stream",
     "text": [
      "INFO:tensorflow:Restoring parameters from ./storage/model\n"
     ]
    },
    {
     "data": {
      "text/markdown": [
       "<span style='color: rgb(0.0, 255.0, 0)'>=></span> <span style='color: rgb(1.0, 254.0, 0)'>британск</span> <span style='color: rgb(0.0, 255.0, 0)'>совет</span> <span style='color: rgb(2.0, 253.0, 0)'>взорва</span> <span style='color: rgb(0.0, 255.0, 0)'>аэропорт</span>"
      ],
      "text/plain": [
       "<IPython.core.display.Markdown object>"
      ]
     },
     "metadata": {},
     "output_type": "display_data"
    },
    {
     "data": {
      "text/markdown": [
       "<span style='color: rgb(18.0, 237.0, 0)'>=></span> <span style='color: rgb(1.0, 254.0, 0)'>британск</span> <span style='color: rgb(1.0, 254.0, 0)'>бомб</span> <span style='color: rgb(219.0, 36.0, 0)'>взорва</span> <span style='color: rgb(18.0, 237.0, 0)'>аэропорт</span>"
      ],
      "text/plain": [
       "<IPython.core.display.Markdown object>"
      ]
     },
     "metadata": {},
     "output_type": "display_data"
    },
    {
     "data": {
      "text/markdown": [
       "<span style='color: rgb(146.0, 109.0, 0)'>=></span> <span style='color: rgb(163.0, 92.0, 0)'>бомб</span> <span style='color: rgb(254.0, 1.0, 0)'>взорва</span> <span style='color: rgb(146.0, 109.0, 0)'>аэропорт</span>"
      ],
      "text/plain": [
       "<IPython.core.display.Markdown object>"
      ]
     },
     "metadata": {},
     "output_type": "display_data"
    },
    {
     "data": {
      "text/markdown": [
       "<span style='color: rgb(114.0, 141.0, 0)'>=></span> <span style='color: rgb(57.0, 198.0, 0)'>секс</span> <span style='color: rgb(169.0, 86.0, 0)'>бомб</span> <span style='color: rgb(254.0, 1.0, 0)'>взорва</span> <span style='color: rgb(114.0, 141.0, 0)'>аэропорт</span>"
      ],
      "text/plain": [
       "<IPython.core.display.Markdown object>"
      ]
     },
     "metadata": {},
     "output_type": "display_data"
    },
    {
     "data": {
      "text/markdown": [
       "<span style='color: rgb(20.0, 235.0, 0)'>=></span> <span style='color: rgb(1.0, 254.0, 0)'>британск</span> <span style='color: rgb(0.0, 255.0, 0)'>секс</span> <span style='color: rgb(2.0, 253.0, 0)'>бомб</span> <span style='color: rgb(244.0, 11.0, 0)'>взорва</span> <span style='color: rgb(20.0, 235.0, 0)'>аэропорт</span>"
      ],
      "text/plain": [
       "<IPython.core.display.Markdown object>"
      ]
     },
     "metadata": {},
     "output_type": "display_data"
    }
   ],
   "source": [
    "with tf.Session(graph=graph) as session:\n",
    "  saver.restore(session, STORAGE_PATH)\n",
    "\n",
    "  articles = [['британск', 'совет', 'взорва', 'аэропорт'],\n",
    "              ['британск', 'бомб', 'взорва', 'аэропорт'],\n",
    "              ['бомб', 'взорва', 'аэропорт'],\n",
    "              ['секс', 'бомб', 'взорва', 'аэропорт'],\n",
    "              ['британск', 'секс', 'бомб', 'взорва', 'аэропорт']]\n",
    "\n",
    "  evaluate(articles, session)"
   ]
  },
  {
   "cell_type": "markdown",
   "metadata": {},
   "source": [
    "As you can see, the results are quite impressive. The model does recognize the words by their context. Neural network here is at its best.\n",
    "\n",
    "However, prepending a statement with strongly provoking word `'неизвестный'` irreversibly moves us along a downward spiral toward complete misunderstanding."
   ]
  },
  {
   "cell_type": "code",
   "execution_count": 35,
   "metadata": {},
   "outputs": [
    {
     "name": "stdout",
     "output_type": "stream",
     "text": [
      "INFO:tensorflow:Restoring parameters from ./storage/model\n"
     ]
    },
    {
     "data": {
      "text/markdown": [
       "<span style='color: rgb(236.0, 19.0, 0)'>=></span> <span style='color: rgb(252.0, 3.0, 0)'>неизвестн</span> <span style='color: rgb(254.0, 1.0, 0)'>секс</span> <span style='color: rgb(250.0, 5.0, 0)'>бомб</span> <span style='color: rgb(255.0, 0.0, 0)'>взорва</span> <span style='color: rgb(236.0, 19.0, 0)'>аэропорт</span>"
      ],
      "text/plain": [
       "<IPython.core.display.Markdown object>"
      ]
     },
     "metadata": {},
     "output_type": "display_data"
    },
    {
     "data": {
      "text/markdown": [
       "<span style='color: rgb(253.0, 2.0, 0)'>=></span> <span style='color: rgb(252.0, 3.0, 0)'>неизвестн</span> <span style='color: rgb(254.0, 1.0, 0)'>секс</span> <span style='color: rgb(250.0, 5.0, 0)'>бомб</span> <span style='color: rgb(252.0, 3.0, 0)'>раздел</span> <span style='color: rgb(255.0, 0.0, 0)'>в</span> <span style='color: rgb(253.0, 2.0, 0)'>аэропорт</span>"
      ],
      "text/plain": [
       "<IPython.core.display.Markdown object>"
      ]
     },
     "metadata": {},
     "output_type": "display_data"
    },
    {
     "data": {
      "text/markdown": [
       "<span style='color: rgb(115.0, 140.0, 0)'>=></span> <span style='color: rgb(252.0, 3.0, 0)'>неизвестн</span> <span style='color: rgb(254.0, 1.0, 0)'>секс</span> <span style='color: rgb(250.0, 5.0, 0)'>бомб</span> ... <span style='color: rgb(254.0, 1.0, 0)'>полност</span> <span style='color: rgb(255.0, 0.0, 0)'>в</span> <span style='color: rgb(252.0, 3.0, 0)'>аэропорт</span> <span style='color: rgb(65.0, 190.0, 0)'>для</span> <span style='color: rgb(115.0, 140.0, 0)'>фотосесс</span>"
      ],
      "text/plain": [
       "<IPython.core.display.Markdown object>"
      ]
     },
     "metadata": {},
     "output_type": "display_data"
    },
    {
     "data": {
      "text/markdown": [
       "<span style='color: rgb(255.0, 0.0, 0)'>=></span> <span style='color: rgb(252.0, 3.0, 0)'>неизвестн</span> <span style='color: rgb(254.0, 1.0, 0)'>секс</span> <span style='color: rgb(250.0, 5.0, 0)'>бомб</span> <span style='color: rgb(252.0, 3.0, 0)'>раздел</span> <span style='color: rgb(255.0, 0.0, 0)'>в</span> <span style='color: rgb(255.0, 0.0, 0)'>бан</span>"
      ],
      "text/plain": [
       "<IPython.core.display.Markdown object>"
      ]
     },
     "metadata": {},
     "output_type": "display_data"
    },
    {
     "data": {
      "text/markdown": [
       "<span style='color: rgb(228.0, 27.0, 0)'>=></span> <span style='color: rgb(252.0, 3.0, 0)'>неизвестн</span> <span style='color: rgb(254.0, 1.0, 0)'>секс</span> <span style='color: rgb(250.0, 5.0, 0)'>бомб</span> <span style='color: rgb(254.0, 1.0, 0)'>обнаж</span> <span style='color: rgb(255.0, 0.0, 0)'>в</span> <span style='color: rgb(21.0, 234.0, 0)'>британск</span> <span style='color: rgb(247.0, 8.0, 0)'>отел</span> <span style='color: rgb(169.0, 86.0, 0)'>.</span> <span style='color: rgb(201.0, 54.0, 0)'>танц</span> <span style='color: rgb(129.0, 126.0, 0)'>он</span> <span style='color: rgb(233.0, 22.0, 0)'>снял</span> <span style='color: rgb(202.0, 53.0, 0)'>бикин</span> <span style='color: rgb(12.0, 243.0, 0)'>и</span> <span style='color: rgb(133.0, 122.0, 0)'>отправл</span> <span style='color: rgb(171.0, 84.0, 0)'>воздушн</span> <span style='color: rgb(243.0, 12.0, 0)'>поцел</span> <span style='color: rgb(228.0, 27.0, 0)'>.</span>"
      ],
      "text/plain": [
       "<IPython.core.display.Markdown object>"
      ]
     },
     "metadata": {},
     "output_type": "display_data"
    }
   ],
   "source": [
    "with tf.Session(graph=graph) as session:\n",
    "  saver.restore(session, STORAGE_PATH)\n",
    "\n",
    "  articles = [['неизвестн', 'секс', 'бомб', 'взорва', 'аэропорт'],\n",
    "              ['неизвестн', 'секс', 'бомб', 'раздел', 'в', 'аэропорт'],\n",
    "              ['неизвестн', 'секс', 'бомб', 'раздел', 'полност', 'в', 'аэропорт', 'для', 'фотосесс'],\n",
    "              ['неизвестн', 'секс', 'бомб', 'раздел', 'в', 'бан'],\n",
    "              ['неизвестн', 'секс', 'бомб', 'обнаж', 'в', 'британск', 'отел', '.',\n",
    "               'танц', 'он', 'снял', 'бикин', 'и', 'отправл', 'воздушн', 'поцел', '.']]\n",
    "\n",
    "  evaluate(articles, session)"
   ]
  },
  {
   "cell_type": "code",
   "execution_count": null,
   "metadata": {
    "collapsed": true
   },
   "outputs": [],
   "source": []
  }
 ],
 "metadata": {
  "kernelspec": {
   "display_name": "Python 3",
   "language": "python",
   "name": "python3"
  },
  "language_info": {
   "codemirror_mode": {
    "name": "ipython",
    "version": 3
   },
   "file_extension": ".py",
   "mimetype": "text/x-python",
   "name": "python",
   "nbconvert_exporter": "python",
   "pygments_lexer": "ipython3",
   "version": "3.6.1"
  }
 },
 "nbformat": 4,
 "nbformat_minor": 2
}
