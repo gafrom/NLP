{
 "cells": [
  {
   "cell_type": "markdown",
   "metadata": {
    "collapsed": true
   },
   "source": [
    "RNN LSTM for text classification\n",
    "=============\n",
    "<span style=\"color: lightsteelblue;\">Deep Learning</span>\n",
    "\n",
    "The goal of this notebook is to train recurrent neural network with LSTM cell for the purpose of text classification."
   ]
  },
  {
   "cell_type": "markdown",
   "metadata": {},
   "source": [
    "## 1. Data preparation"
   ]
  },
  {
   "cell_type": "code",
   "execution_count": 1,
   "metadata": {
    "collapsed": true
   },
   "outputs": [],
   "source": [
    "# These are all the modules we'll be using later. Make sure you can import them\n",
    "# before proceeding further.\n",
    "import collections\n",
    "import numpy as np\n",
    "import matplotlib.pyplot as plt\n",
    "import tensorflow as tf\n",
    "import pickle\n",
    "from pathlib import Path\n",
    "import os\n",
    "import time\n",
    "\n",
    "# custom libraries\n",
    "from nlp.preparer import Corpus\n",
    "from nlp.iterator import BatchIterator\n",
    "from nlp.conveyor import Conveyor\n",
    "\n",
    "# View\n",
    "from IPython.display import Markdown, display"
   ]
  },
  {
   "cell_type": "markdown",
   "metadata": {},
   "source": [
    "### Loading corpora"
   ]
  },
  {
   "cell_type": "code",
   "execution_count": 2,
   "metadata": {},
   "outputs": [
    {
     "name": "stdout",
     "output_type": "stream",
     "text": [
      "Corpus label: good,  length: 9196 articles,  av length: 232 words,  max length: 447 words.\n",
      "Corpus raw article: 3 февраля в большинстве европейских стран закрылось зимнее трансферное окно — период, когда клубы могут заявлять новых футболистов, купленных у других команд. Ценники меняются чуть ли не ежемесячно. Н\n",
      "Corpus data (words): ['num', 'феврал', 'в', 'большинств', 'европейск', 'стран', 'закр', 'зимн', 'трансферн', 'окн', 'период', ',', 'когд', 'клуб', 'могут', 'заявля', 'нов', 'футболист', ',', 'куплен']\n",
      "\n",
      "Corpus label: bad,  length: 7521 articles,  av length: 84 words,  max length: 392 words.\n",
      "Corpus raw article: Неизвестный угрожает взорвать аэропорт Кишинева, если ему не дадут миллион. Неизвестный сообщил о бомбе в аэропорту Международного аэропорта Кишинева и требует миллион рублей, сообщили в пограничной п\n",
      "Corpus data (words): ['неизвестн', 'угрожа', 'взорва', 'аэропорт', 'кишинев', ',', 'есл', 'ем', 'не', 'дадут', 'миллион', '.', 'неизвестн', 'сообщ', 'о', 'бомб', 'в', 'аэропорт', 'международн', 'аэропорт']\n",
      "\n"
     ]
    }
   ],
   "source": [
    "corpora_paths = ['./articles/good.articles', './articles/bad.articles'] \n",
    "corpora = []\n",
    "lengths = []\n",
    "\n",
    "for path in corpora_paths:\n",
    "  corpus = Corpus(path, 321)\n",
    "  corpora.append(corpus)\n",
    "  length = [len(article) for article in corpus.articles]\n",
    "  lengths.append(length)\n",
    "\n",
    "  print(f\"Corpus label: {corpus.label}, \",\n",
    "        f\"length: {len(corpus.articles)} articles, \",\n",
    "        f\"av length: {round(corpus.average_length())} words, \",\n",
    "        f\"max length: {max(length)} words.\")\n",
    "  print(f\"Corpus raw article: {corpus.raw[0][:200]}\")\n",
    "  print(f\"Corpus data (words): {corpus.articles[0][:20]}\\n\")"
   ]
  },
  {
   "cell_type": "markdown",
   "metadata": {},
   "source": [
    "### Visualizing articles lengths"
   ]
  },
  {
   "cell_type": "code",
   "execution_count": 3,
   "metadata": {},
   "outputs": [
    {
     "data": {
      "image/png": "[encoded data removed]",
      "text/plain": [
       "<matplotlib.figure.Figure at 0x118de4128>"
      ]
     },
     "metadata": {},
     "output_type": "display_data"
    }
   ],
   "source": [
    "# visualization\n",
    "plt.figure().set_size_inches(15, 8)\n",
    "\n",
    "plt.subplot(211)\n",
    "plt.xlabel('Article length (words)')\n",
    "plt.ylabel('Number of articles')\n",
    "plt.title(f'Lengths distribution: {corpora[0].label} articles')\n",
    "plt.hist(lengths[0], 200)\n",
    "\n",
    "plt.subplots_adjust(hspace=.5)\n",
    "\n",
    "plt.subplot(212)\n",
    "plt.xlabel('Article length (words)')\n",
    "plt.ylabel('Number of articles')\n",
    "plt.title(f'Lengths distribution: {corpora[1].label} articles')\n",
    "plt.hist(lengths[1], 200)\n",
    "\n",
    "plt.show()"
   ]
  },
  {
   "cell_type": "markdown",
   "metadata": {},
   "source": [
    "### Building a dictionary"
   ]
  },
  {
   "cell_type": "code",
   "execution_count": 4,
   "metadata": {},
   "outputs": [
    {
     "name": "stdout",
     "output_type": "stream",
     "text": [
      "Loading dictionary from stored file (1193403 bytes)...\n",
      "Top popular words counts: [['UNK', 54382], (',', 191060), ('.', 167323), ('в', 121865), ('num', 70531), ('и', 59470), ('на', 47402), ('с', 26509), ('что', 22411), ('по', 21900), ('эт', 21548), ('не', 21271), ('из', 16381), ('год', 15883), ('он', 14053)]\n",
      "\n",
      "Example word: 3144 => слон\n",
      "\n",
      "Example data: [4, 385, 3, 606, 600, 50, 1918, 1257, 10523, 1302, 540, 1, 89, 359, 255, 2110, 49, 999, 1, 6766]\n",
      "\n",
      "Validation sizes split train / validation: 9176 / 20\n",
      "Validation dataset size: 40\n"
     ]
    }
   ],
   "source": [
    "STORAGE_PATH = './storage/model' # to restore model's knowledge later\n",
    "validation_size = 20 # articles per each class\n",
    "vocabulary_size = 25000\n",
    "\n",
    "def build_dictionary(words):\n",
    "  count = [['UNK', -1]]\n",
    "  count.extend(collections.Counter(words).most_common(vocabulary_size - 1))\n",
    "  dictionary = dict()\n",
    "  for word, _ in count:\n",
    "    dictionary[word] = len(dictionary)\n",
    "  reverse_dictionary = dict(zip(dictionary.values(), dictionary.keys())) \n",
    "\n",
    "  return dictionary, reverse_dictionary, count\n",
    "\n",
    "def build_dataset(words, dictionary, count):\n",
    "  data = list()\n",
    "  unk_count = 0\n",
    "  for word in words:\n",
    "    if word in dictionary:\n",
    "      index = dictionary[word]\n",
    "    else:\n",
    "      index = 0  # dictionary['UNK']\n",
    "      unk_count = unk_count + 1\n",
    "    data.append(index)\n",
    "\n",
    "  count[0][1] = count[0][1] + unk_count\n",
    "\n",
    "  return data\n",
    "\n",
    "# flatten all words into a single bag\n",
    "all_words = [word for corpus in corpora for words in corpus.articles for word in words]\n",
    "\n",
    "dictionary_file_name = f\"{STORAGE_PATH}.dictionary\"\n",
    "if Path(dictionary_file_name).is_file():\n",
    "  dictionary_file_size = os.path.getsize(dictionary_file_name)\n",
    "  print(f\"Loading dictionary from stored file ({dictionary_file_size} bytes)...\")\n",
    "  with open(dictionary_file_name, 'rb') as fp:\n",
    "    dictionary, reverse_dictionary, count = pickle.load(fp)\n",
    "else:\n",
    "  print('Building dictionary from the corpora...')\n",
    "  dictionary, reverse_dictionary, count = build_dictionary(all_words)\n",
    "  print('Saving dictionary on disk for further access...')\n",
    "  with open(dictionary_file_name, 'wb') as fp:\n",
    "    pickle.dump((dictionary, reverse_dictionary, count), fp)\n",
    "  dictionary_file_size = os.path.getsize(dictionary_file_name)\n",
    "  print(f\"Done. It took {dictionary_file_size} bytes on the disk.\")\n",
    "\n",
    "good_data = [build_dataset(article, dictionary, count) for article in corpora[0].articles]\n",
    "bad_data  = [build_dataset(article, dictionary, count) for article in corpora[1].articles]\n",
    "\n",
    "# Splitting between train and validation datasets\n",
    "good_train_data = good_data[:-validation_size]\n",
    "good_validation_data = good_data[-validation_size:]\n",
    "bad_train_data = bad_data[:-validation_size]\n",
    "bad_validation_data = bad_data[-validation_size:]\n",
    "validation_data = [item for ga, ba in zip(good_validation_data, bad_validation_data) for item in [ga, ba]]\n",
    "\n",
    "print(f\"Top popular words counts: {count[:15]}\\n\")\n",
    "print(f\"Example word: {dictionary['слон']} => {reverse_dictionary[dictionary['слон']]}\\n\")\n",
    "print(f'Example data: {good_data[0][:20]}\\n')\n",
    "print(f'Validation sizes split train / validation: {len(good_train_data)} / {len(good_validation_data)}')\n",
    "print(f'Validation dataset size: {len(validation_data)}')"
   ]
  },
  {
   "cell_type": "markdown",
   "metadata": {},
   "source": [
    "Below is an **example** of two training batches spat out by `BatchIterator`:"
   ]
  },
  {
   "cell_type": "code",
   "execution_count": 6,
   "metadata": {},
   "outputs": [
    {
     "name": "stdout",
     "output_type": "stream",
     "text": [
      "([319, 2251, 3, 284, 488, 1184, 18940, 86, 3, 187], [[0.0, 1.0], [0.0, 1.0], [0.0, 1.0], [0.0, 1.0], [0.0, 1.0], [0.0, 1.0], [0.0, 1.0], [0.0, 1.0], [0.0, 1.0], [0.0, 1.0]], [0.0, 1.0, 1.0, 1.0, 1.0, 1.0, 1.0, 1.0, 1.0, 1.0])\n",
      "['водител', 'такс', 'в', 'петербург', 'предлож', 'бесплатн', 'везт', 'пострада', 'в', 'метр']\n",
      "([2, 3, 388, 284, 3716, 2642, 250, 86, 41, 316], [[0.0, 1.0], [0.0, 1.0], [0.0, 1.0], [0.0, 1.0], [0.0, 1.0], [0.0, 1.0], [0.0, 1.0], [0.0, 1.0], [0.0, 1.0], [0.0, 1.0]], [1.0, 1.0, 1.0, 1.0, 1.0, 1.0, 1.0, 1.0, 1.0, 1.0])\n",
      "['.', 'в', 'санкт', 'петербург', 'таксист', 'перевоз', 'всех', 'пострада', 'при', 'теракт']\n"
     ]
    }
   ],
   "source": [
    "batch_size = 64 # Number of articles fed into a model at once\n",
    "num_unrollings = 10 # Number of recurrent steps\n",
    "\n",
    "good = [1., 0.] # Representation of first class\n",
    "bad  = [0., 1.] # Representation of second class\n",
    "\n",
    "min_size = min(len(good_train_data), len(bad_train_data))\n",
    "articles_pool = [(data, good) for data in good_train_data[:min_size]] + \\\n",
    "                [(data, bad)  for data in bad_train_data[:min_size]]\n",
    "\n",
    "conveyors = [Conveyor(articles_pool, num_unrollings) for _ in range(batch_size)]\n",
    "\n",
    "for _ in range(2):\n",
    "  bundle = conveyors[0].next()\n",
    "  print(bundle)\n",
    "  print([reverse_dictionary[index] for index in bundle[0]])\n",
    "conveyors[0].rewind()"
   ]
  },
  {
   "cell_type": "markdown",
   "metadata": {},
   "source": [
    "## 2. LSTM Model"
   ]
  },
  {
   "cell_type": "code",
   "execution_count": 8,
   "metadata": {},
   "outputs": [
    {
     "name": "stdout",
     "output_type": "stream",
     "text": [
      "Graph was successfully built\n"
     ]
    }
   ],
   "source": [
    "num_nodes = 64 # Dimension of lstm cell\n",
    "num_classes = 2 # Number of classes among which to predict\n",
    "embedding_size = 128 # Dimension of a word vector\n",
    "hidden_layer_size = 32\n",
    "\n",
    "graph = tf.Graph()\n",
    "with graph.as_default():\n",
    "\n",
    "  # Parameters:\n",
    "  # Input gate: input, previous output, and bias.\n",
    "  ix = tf.Variable(tf.truncated_normal([embedding_size, num_nodes], -0.1, 0.1), name='ix')\n",
    "  im = tf.Variable(tf.truncated_normal([num_nodes, num_nodes], -0.1, 0.1), name='im')\n",
    "  ib = tf.Variable(tf.zeros([1, num_nodes]), name='ib')\n",
    "  # Forget gate: input, previous output, and bias.\n",
    "  fx = tf.Variable(tf.truncated_normal([embedding_size, num_nodes], -0.1, 0.1), name='fx')\n",
    "  fm = tf.Variable(tf.truncated_normal([num_nodes, num_nodes], -0.1, 0.1), name='fm')\n",
    "  fb = tf.Variable(tf.zeros([1, num_nodes]), name='fb')\n",
    "  # Output gate: input, previous output, and bias.\n",
    "  ox = tf.Variable(tf.truncated_normal([embedding_size, num_nodes], -0.1, 0.1), name='ox')\n",
    "  om = tf.Variable(tf.truncated_normal([num_nodes, num_nodes], -0.1, 0.1), name='om')\n",
    "  ob = tf.Variable(tf.zeros([1, num_nodes]), name='ob')\n",
    "  # Memory cell: input, state and bias.\n",
    "  cx = tf.Variable(tf.truncated_normal([embedding_size, num_nodes], -0.1, 0.1), name='cx')\n",
    "  cm = tf.Variable(tf.truncated_normal([num_nodes, num_nodes], -0.1, 0.1), name='cm')\n",
    "  cb = tf.Variable(tf.zeros([1, num_nodes]), name='cb')\n",
    "  # Variables saving state across unrollings.\n",
    "  saved_output = tf.Variable(tf.zeros([batch_size, num_nodes]), trainable=False)\n",
    "  saved_state = tf.Variable(tf.zeros([batch_size, num_nodes]), trainable=False)\n",
    "  # Classifier weights and biases.\n",
    "  w = tf.Variable(tf.truncated_normal([num_nodes, hidden_layer_size], -0.1, 0.1), name='w')\n",
    "  b = tf.Variable(tf.zeros([hidden_layer_size]), name='b')\n",
    "  hw = tf.Variable(tf.truncated_normal([hidden_layer_size, num_classes], -0.1, 0.1), name='hw')\n",
    "  hb = tf.Variable(tf.zeros([num_classes]), name='hb')\n",
    "  # Embeddings\n",
    "  embeddings = tf.Variable(tf.random_uniform([vocabulary_size, embedding_size], -1.0, 1.0), name='embeddings')\n",
    "\n",
    "\n",
    "  # Definition of the cell computation.\n",
    "  def lstm_cell(i, o, state):\n",
    "    # Create an LSTM cell\n",
    "    input_gate =  tf.sigmoid(tf.matmul(i, ix) + tf.matmul(o, im) + ib)\n",
    "    forget_gate = tf.sigmoid(tf.matmul(i, fx) + tf.matmul(o, fm) + fb)\n",
    "    output_gate = tf.sigmoid(tf.matmul(i, ox) + tf.matmul(o, om) + ob)\n",
    "    update = tf.matmul(i, cx) + tf.matmul(o, cm) + cb\n",
    "    state = forget_gate * state + input_gate * tf.tanh(update)\n",
    "\n",
    "    return output_gate * tf.tanh(state), state\n",
    "\n",
    "  # Input data.\n",
    "  train_inputs   = tf.placeholder(tf.int32,   shape=[batch_size, num_unrollings])\n",
    "  train_clearers = tf.placeholder(tf.float32, shape=[batch_size, num_unrollings])\n",
    "  train_labels   = tf.placeholder(tf.float32, shape=[batch_size, num_unrollings, num_classes])\n",
    "\n",
    "  # Unrolled LSTM loop.\n",
    "  lstm_outputs = list()\n",
    "  output = saved_output\n",
    "  state  = saved_state\n",
    "  embedded_batch = tf.nn.embedding_lookup(embeddings, train_inputs)\n",
    "  lstm_inputs = tf.unstack(embedded_batch, axis=1) # list of ~ (batch_size, embedding_size)\n",
    "  lstm_state_clearers = tf.unstack(train_clearers, axis=1) # list of ~ (batch_size, )\n",
    "\n",
    "  for lstm_input_batch, state_clearers_batch in zip(lstm_inputs, lstm_state_clearers):\n",
    "    reshaped_clearers = tf.reshape(state_clearers_batch, (batch_size, 1))\n",
    "    output, state = lstm_cell(lstm_input_batch,\n",
    "                              tf.multiply(reshaped_clearers, output),\n",
    "                              tf.multiply(reshaped_clearers, state))\n",
    "\n",
    "    lstm_outputs.append(output)\n",
    "\n",
    "  # State saving across unrollings.\n",
    "  with tf.control_dependencies([saved_output.assign(output),\n",
    "                                saved_state.assign(state)]):\n",
    "    # Classifier.\n",
    "    # here we use `tf.reshape(tf.stack())` instead of `tf.concat` to preserve 0th and 1th axes order\n",
    "    joined_output = tf.reshape(tf.stack(lstm_outputs, axis=1), (-1, num_nodes))   \n",
    "    joined_labels = tf.reshape(train_labels, (-1, num_classes))\n",
    "\n",
    "    hidden_layer = tf.nn.xw_plus_b(joined_output, w, b)\n",
    "    activation = tf.nn.tanh(hidden_layer)\n",
    "    logits = tf.nn.xw_plus_b(activation, hw, hb)\n",
    "\n",
    "    loss = tf.reduce_mean(tf.nn.softmax_cross_entropy_with_logits(\n",
    "      labels=joined_labels,\n",
    "      logits=logits\n",
    "    ))\n",
    "\n",
    "  # Optimizer.\n",
    "  global_step = tf.Variable(0, trainable=False, name='global_step')\n",
    "  learning_rate = tf.train.exponential_decay(4.0, global_step, 5000, 0.8, staircase=True)\n",
    "  optimizer = tf.train.GradientDescentOptimizer(learning_rate)\n",
    "  gradients, v = zip(*optimizer.compute_gradients(loss))\n",
    "  gradients, _ = tf.clip_by_global_norm(gradients, 1.25)\n",
    "  optimizer = optimizer.apply_gradients(\n",
    "    zip(gradients, v), global_step=global_step)\n",
    "\n",
    "  # Predictions.\n",
    "  train_prediction = tf.nn.softmax(logits)\n",
    "\n",
    "  # Storing knowledge to the disk\n",
    "  saver = tf.train.Saver()\n",
    "\n",
    "  # Sampling and validation evaluation\n",
    "  # ==================================\n",
    "  #\n",
    "  # Sampling eval: one unrolling, no state clearers\n",
    "  sample_input = tf.placeholder(tf.int32, shape=[1])\n",
    "  sample_lstm_input = tf.nn.embedding_lookup(embeddings, sample_input)\n",
    "  saved_sample_output = tf.Variable(tf.zeros([1, num_nodes]), trainable=False)\n",
    "  saved_sample_state = tf.Variable(tf.zeros([1, num_nodes]), trainable=False)\n",
    "  reset_sample_state = tf.group(\n",
    "    saved_sample_output.assign(tf.zeros([1, num_nodes])),\n",
    "    saved_sample_state.assign(tf.zeros([1, num_nodes])))\n",
    "  sample_output, sample_state = lstm_cell(\n",
    "    sample_lstm_input, saved_sample_output, saved_sample_state)\n",
    "  with tf.control_dependencies([saved_sample_output.assign(sample_output),\n",
    "                                saved_sample_state.assign(sample_state)]):\n",
    "    hidden_sample_pred = tf.nn.xw_plus_b(sample_output, w, b)\n",
    "    sample_activation = tf.nn.sigmoid(hidden_sample_pred)\n",
    "    sample_prediction = tf.nn.softmax(tf.nn.xw_plus_b(sample_activation, hw, hb))\n",
    "\n",
    "  valid_labels = tf.placeholder(tf.float32, shape=[None, num_classes])\n",
    "  valid_logits = tf.placeholder(tf.float32, shape=[None, num_classes])  \n",
    "  validation_loss = tf.reduce_mean(tf.nn.softmax_cross_entropy_with_logits(\n",
    "    labels=valid_labels,\n",
    "    logits=valid_logits\n",
    "  ))\n",
    "  \n",
    "print('Graph was successfully built')"
   ]
  },
  {
   "cell_type": "markdown",
   "metadata": {},
   "source": [
    "## 3. Training"
   ]
  },
  {
   "cell_type": "markdown",
   "metadata": {},
   "source": [
    "### Representation helpers\n",
    "\n",
    "Before we dive into the very learning - let us define some useful helpers to better represent training process."
   ]
  },
  {
   "cell_type": "code",
   "execution_count": 9,
   "metadata": {
    "collapsed": true
   },
   "outputs": [],
   "source": [
    "def print_md(string):\n",
    "  display(Markdown(string))\n",
    "\n",
    "def colored_p(text, prediction):\n",
    "  g, r = [round(probability * 255) for probability in prediction]\n",
    "  return f\"<span style='color: rgb({r}, {g}, 0)'>{text}</span>\"\n",
    "\n",
    "def represent(words, predictions, tail=3):\n",
    "  result = []\n",
    "  temp = []\n",
    "  changed_ago = 0\n",
    "  for word, label, i in zip(words, predictions, range(len(words))):\n",
    "    word_to_add = colored_p(word, label)\n",
    "\n",
    "    if i == 0:\n",
    "      temp.append(word_to_add)\n",
    "      continue\n",
    "\n",
    "    if label_to_color(predictions[i - 1]) == label_to_color(label):\n",
    "      temp.append(word_to_add)\n",
    "    else:\n",
    "      if len(temp) > tail * 2:\n",
    "        result += temp[:tail] + ['...'] + temp[-tail:]\n",
    "      else:\n",
    "        result += temp\n",
    "      temp = [word_to_add]\n",
    "\n",
    "  if len(temp) > tail * 2:\n",
    "    result += temp[:tail] + ['...'] + temp[-tail:]\n",
    "  else:\n",
    "    result += temp\n",
    "\n",
    "  overall_label = colored_p('=>', predictions[-1])\n",
    "  article = \" \".join(result)\n",
    "\n",
    "  return f\"{overall_label} {article}\"\n",
    "\n",
    "def label_to_color(label):\n",
    "  if abs(label[0] - label[1]) < 0.2: color = 'black'\n",
    "  elif label[0] > label[1]:          color = 'green'\n",
    "  else:                              color = 'red'\n",
    "\n",
    "  return color\n",
    "\n",
    "def colored(text, color='black'):\n",
    "  colors = { 'black':'30',\n",
    "             'red':'31',\n",
    "             'green':'32',\n",
    "             'yellow':'33',\n",
    "             'blue':'34',\n",
    "             'purple':'35',\n",
    "             'sea-blue':'36' }\n",
    "\n",
    "  return f\"\\x1b[{colors[color]}m{text}\\x1b[0m\"\n",
    "\n",
    "\n",
    "def logprob(predictions, labels):\n",
    "  \"\"\"Log-probability of the true labels in a predicted batch.\"\"\"\n",
    "  predictions[predictions < 1e-10] = 1e-10\n",
    "  return np.sum(np.multiply(labels, -np.log(predictions))) / labels.shape[0]"
   ]
  },
  {
   "cell_type": "markdown",
   "metadata": {},
   "source": [
    "### Training process"
   ]
  },
  {
   "cell_type": "code",
   "execution_count": 10,
   "metadata": {},
   "outputs": [
    {
     "name": "stdout",
     "output_type": "stream",
     "text": [
      "Initialized\n",
      "Average loss at step 0: 0.7951, learning rate: 4.0000\n",
      "Average loss at step 200: 1.5673, learning rate: 4.0000\n",
      "Average loss at step 400: 1.0494, learning rate: 4.0000\n",
      "Average loss at step 600: 0.8799, learning rate: 4.0000\n",
      "Average loss at step 800: 0.1641, learning rate: 4.0000\n",
      "Average loss at step 1000: 0.1268, learning rate: 4.0000\n",
      "Average loss at step 1200: 0.0910, learning rate: 4.0000\n",
      "Average loss at step 1400: 0.0917, learning rate: 4.0000\n",
      "Average loss at step 1600: 0.0868, learning rate: 4.0000\n",
      "Average loss at step 1800: 0.0679, learning rate: 4.0000\n",
      "Average loss at step 2000: 0.0825, learning rate: 4.0000\n",
      "Average loss at step 2200: 0.0695, learning rate: 4.0000\n",
      "Average loss at step 2400: 0.0715, learning rate: 4.0000\n",
      "Average loss at step 2600: 0.0544, learning rate: 4.0000\n",
      "Average loss at step 2800: 0.0633, learning rate: 4.0000\n",
      "Average loss at step 3000: 0.0559, learning rate: 4.0000\n",
      "Average loss at step 3200: 0.0613, learning rate: 4.0000\n",
      "Average loss at step 3400: 0.0488, learning rate: 4.0000\n",
      "Average loss at step 3600: 0.0497, learning rate: 4.0000\n",
      "Average loss at step 3800: 0.0435, learning rate: 4.0000\n",
      "Average loss at step 4000: 0.0492, learning rate: 4.0000\n",
      "Average loss at step 4200: 0.0397, learning rate: 4.0000\n",
      "Average loss at step 4400: 0.0281, learning rate: 4.0000\n",
      "Average loss at step 4600: 0.0430, learning rate: 4.0000\n",
      "Average loss at step 4800: 0.0378, learning rate: 4.0000\n",
      "Average loss at step 5000: 0.0447, learning rate: 3.2000\n",
      "Average loss at step 5200: 0.0505, learning rate: 3.2000\n",
      "Average loss at step 5400: 0.0479, learning rate: 3.2000\n",
      "Average loss at step 5600: 0.0293, learning rate: 3.2000\n",
      "Average loss at step 5800: 0.0494, learning rate: 3.2000\n",
      "Average loss at step 6000: 0.0337, learning rate: 3.2000\n",
      "Average loss at step 6200: 0.0279, learning rate: 3.2000\n",
      "Average loss at step 6400: 0.0434, learning rate: 3.2000\n",
      "Average loss at step 6600: 0.0330, learning rate: 3.2000\n",
      "Average loss at step 6800: 0.0239, learning rate: 3.2000\n",
      "Average loss at step 7000: 0.0334, learning rate: 3.2000\n",
      "Average loss at step 7200: 0.0405, learning rate: 3.2000\n",
      "Average loss at step 7400: 0.0413, learning rate: 3.2000\n",
      "Average loss at step 7600: 0.0356, learning rate: 3.2000\n",
      "Average loss at step 7800: 0.0265, learning rate: 3.2000\n",
      "Average loss at step 8000: 0.0250, learning rate: 3.2000\n",
      "Average loss at step 8200: 0.0418, learning rate: 3.2000\n",
      "Average loss at step 8400: 0.0341, learning rate: 3.2000\n",
      "Average loss at step 8600: 0.0386, learning rate: 3.2000\n",
      "Average loss at step 8800: 0.0215, learning rate: 3.2000\n",
      "Average loss at step 9000: 0.0286, learning rate: 3.2000\n",
      "Average loss at step 9200: 0.0225, learning rate: 3.2000\n",
      "Average loss at step 9400: 0.0261, learning rate: 3.2000\n",
      "Average loss at step 9600: 0.0350, learning rate: 3.2000\n",
      "Average loss at step 9800: 0.0252, learning rate: 3.2000\n",
      "Average loss at step 10000: 0.0215, learning rate: 2.5600\n",
      "Average loss at step 10200: 0.0265, learning rate: 2.5600\n",
      "Average loss at step 10400: 0.0254, learning rate: 2.5600\n",
      "Average loss at step 10600: 0.0157, learning rate: 2.5600\n",
      "Average loss at step 10800: 0.0243, learning rate: 2.5600\n",
      "Average loss at step 11000: 0.0316, learning rate: 2.5600\n",
      "Average loss at step 11200: 0.0170, learning rate: 2.5600\n",
      "Average loss at step 11400: 0.0177, learning rate: 2.5600\n",
      "Average loss at step 11600: 0.0149, learning rate: 2.5600\n",
      "Average loss at step 11800: 0.0273, learning rate: 2.5600\n",
      "Average loss at step 12000: 0.0234, learning rate: 2.5600\n",
      "Average loss at step 12200: 0.0260, learning rate: 2.5600\n",
      "Average loss at step 12400: 0.0169, learning rate: 2.5600\n",
      "Average loss at step 12600: 0.0168, learning rate: 2.5600\n",
      "Average loss at step 12800: 0.0183, learning rate: 2.5600\n",
      "Average loss at step 13000: 0.0150, learning rate: 2.5600\n",
      "Average loss at step 13200: 0.0209, learning rate: 2.5600\n",
      "Average loss at step 13400: 0.0163, learning rate: 2.5600\n",
      "Average loss at step 13600: 0.0177, learning rate: 2.5600\n",
      "Average loss at step 13800: 0.0145, learning rate: 2.5600\n",
      "Average loss at step 14000: 0.0203, learning rate: 2.5600\n",
      "Average loss at step 14200: 0.0166, learning rate: 2.5600\n",
      "Average loss at step 14400: 0.0165, learning rate: 2.5600\n",
      "Average loss at step 14600: 0.0154, learning rate: 2.5600\n",
      "Average loss at step 14800: 0.0212, learning rate: 2.5600\n",
      "Average loss at step 15000: 0.0152, learning rate: 2.0480\n",
      "Average loss at step 15200: 0.0123, learning rate: 2.0480\n",
      "Average loss at step 15400: 0.0303, learning rate: 2.0480\n",
      "Average loss at step 15600: 0.0091, learning rate: 2.0480\n",
      "Average loss at step 15800: 0.0103, learning rate: 2.0480\n",
      "Average loss at step 16000: 0.0107, learning rate: 2.0480\n",
      "Average loss at step 16200: 0.0140, learning rate: 2.0480\n",
      "Average loss at step 16400: 0.0178, learning rate: 2.0480\n",
      "Average loss at step 16600: 0.0214, learning rate: 2.0480\n",
      "Average loss at step 16800: 0.0148, learning rate: 2.0480\n",
      "Average loss at step 17000: 0.0078, learning rate: 2.0480\n",
      "Average loss at step 17200: 0.0105, learning rate: 2.0480\n",
      "Average loss at step 17400: 0.0079, learning rate: 2.0480\n",
      "Average loss at step 17600: 0.0088, learning rate: 2.0480\n",
      "Average loss at step 17800: 0.0100, learning rate: 2.0480\n",
      "Average loss at step 18000: 0.0191, learning rate: 2.0480\n",
      "Average loss at step 18200: 0.0127, learning rate: 2.0480\n",
      "Average loss at step 18400: 0.0070, learning rate: 2.0480\n",
      "Average loss at step 18600: 0.0083, learning rate: 2.0480\n",
      "Average loss at step 18800: 0.0076, learning rate: 2.0480\n",
      "Average loss at step 19000: 0.0168, learning rate: 2.0480\n",
      "Average loss at step 19200: 0.0125, learning rate: 2.0480\n",
      "Average loss at step 19400: 0.0151, learning rate: 2.0480\n",
      "Average loss at step 19600: 0.0082, learning rate: 2.0480\n",
      "Average loss at step 19800: 0.0105, learning rate: 2.0480\n",
      "Average loss at step 20000: 0.0138, learning rate: 1.6384\n",
      "Average loss at step 20200: 0.0164, learning rate: 1.6384\n",
      "Average loss at step 20400: 0.0089, learning rate: 1.6384\n",
      "Average loss at step 20600: 0.0078, learning rate: 1.6384\n",
      "Average loss at step 20800: 0.0116, learning rate: 1.6384\n",
      "Average loss at step 21000: 0.0105, learning rate: 1.6384\n",
      "Average loss at step 21200: 0.0081, learning rate: 1.6384\n",
      "Average loss at step 21400: 0.0157, learning rate: 1.6384\n",
      "Average loss at step 21600: 0.0070, learning rate: 1.6384\n",
      "Average loss at step 21800: 0.0117, learning rate: 1.6384\n",
      "Average loss at step 22000: 0.0105, learning rate: 1.6384\n",
      "Average loss at step 22200: 0.0149, learning rate: 1.6384\n",
      "Average loss at step 22400: 0.0121, learning rate: 1.6384\n",
      "Average loss at step 22600: 0.0084, learning rate: 1.6384\n",
      "Average loss at step 22800: 0.0185, learning rate: 1.6384\n",
      "Average loss at step 23000: 0.0070, learning rate: 1.6384\n",
      "Average loss at step 23200: 0.0138, learning rate: 1.6384\n",
      "Average loss at step 23400: 0.0070, learning rate: 1.6384\n",
      "Average loss at step 23600: 0.0156, learning rate: 1.6384\n",
      "Average loss at step 23800: 0.0093, learning rate: 1.6384\n",
      "Average loss at step 24000: 0.0074, learning rate: 1.6384\n",
      "Average loss at step 24200: 0.0060, learning rate: 1.6384\n",
      "Average loss at step 24400: 0.0059, learning rate: 1.6384\n",
      "Average loss at step 24600: 0.0063, learning rate: 1.6384\n",
      "Average loss at step 24800: 0.0074, learning rate: 1.6384\n",
      "Average loss at step 25000: 0.0077, learning rate: 1.3107\n",
      "Average loss at step 25200: 0.0084, learning rate: 1.3107\n",
      "Average loss at step 25400: 0.0079, learning rate: 1.3107\n",
      "Average loss at step 25600: 0.0155, learning rate: 1.3107\n",
      "Average loss at step 25800: 0.0114, learning rate: 1.3107\n",
      "Average loss at step 26000: 0.0061, learning rate: 1.3107\n",
      "Average loss at step 26200: 0.0055, learning rate: 1.3107\n",
      "Average loss at step 26400: 0.0067, learning rate: 1.3107\n",
      "Average loss at step 26600: 0.0082, learning rate: 1.3107\n",
      "Average loss at step 26800: 0.0081, learning rate: 1.3107\n",
      "Average loss at step 27000: 0.0110, learning rate: 1.3107\n",
      "Average loss at step 27200: 0.0080, learning rate: 1.3107\n",
      "Average loss at step 27400: 0.0069, learning rate: 1.3107\n",
      "Average loss at step 27600: 0.0068, learning rate: 1.3107\n",
      "Average loss at step 27800: 0.0059, learning rate: 1.3107\n",
      "Average loss at step 28000: 0.0060, learning rate: 1.3107\n",
      "Average loss at step 28200: 0.0060, learning rate: 1.3107\n",
      "Average loss at step 28400: 0.0081, learning rate: 1.3107\n"
     ]
    },
    {
     "name": "stdout",
     "output_type": "stream",
     "text": [
      "Average loss at step 28600: 0.0054, learning rate: 1.3107\n",
      "Average loss at step 28800: 0.0047, learning rate: 1.3107\n",
      "Average loss at step 29000: 0.0057, learning rate: 1.3107\n",
      "Average loss at step 29200: 0.0079, learning rate: 1.3107\n",
      "Average loss at step 29400: 0.0052, learning rate: 1.3107\n",
      "Average loss at step 29600: 0.0066, learning rate: 1.3107\n",
      "Average loss at step 29800: 0.0056, learning rate: 1.3107\n",
      "Average loss at step 30000: 0.0061, learning rate: 1.0486\n",
      "Learning finished in 6.9 minutes.\n"
     ]
    }
   ],
   "source": [
    "num_steps = 30001\n",
    "summary_frequency = 200\n",
    "# validation_frequencies = [1000, 5000, 30000, 60000, 90000]\n",
    "\n",
    "with tf.Session(graph=graph) as session:\n",
    "  tf.global_variables_initializer().run()\n",
    "\n",
    "  print('Initialized')\n",
    "  mean_loss = 0\n",
    "  losses   = []\n",
    "  v_losses = []\n",
    "  start_at = time.time()\n",
    "  for step in range(num_steps):\n",
    "    feed = ([], [], [])\n",
    "    for conveyor in conveyors:\n",
    "      bundle = conveyor.next()\n",
    "      feed[0].append(bundle[0])\n",
    "      feed[1].append(bundle[1])\n",
    "      feed[2].append(bundle[2])\n",
    "\n",
    "    feed_dict = { train_inputs: feed[0],\n",
    "                  train_labels: feed[1],\n",
    "                  train_clearers: feed[2] }\n",
    "\n",
    "    _, l, lr = session.run(\n",
    "      [optimizer, loss, learning_rate], feed_dict=feed_dict)\n",
    "    mean_loss += l\n",
    "\n",
    "    if step % summary_frequency == 0:\n",
    "      if step > 0:\n",
    "        # The mean loss is an estimate of the loss over the last few batches.\n",
    "        mean_loss = mean_loss / summary_frequency\n",
    "\n",
    "#       # ======================================== Validation\n",
    "#       if step % (summary_frequency * 4) == 0:\n",
    "#         v_start_at = time.time()\n",
    "\n",
    "#         for i, article in enumerate(validation_data):\n",
    "#           logits = []\n",
    "#           reset_sample_state.run()\n",
    "#           current_label = good if i % 2 == 0 else bad\n",
    "#           labels = [current_label] * len(article)\n",
    "\n",
    "#           for word in article:\n",
    "#             prediction = sample_prediction.eval({ sample_input: [word] })\n",
    "#             logits.append(prediction[0])\n",
    "\n",
    "#         v_loss = validation_loss.eval({ valid_logits: logits, valid_labels: labels })\n",
    "#         v_losses.append(v_loss)\n",
    "#         v_taken = (time.time() - v_start_at)\n",
    "#         print(f\"Validation loss: {v_loss:.4f}, taken: {v_taken:.2f} seconds\")\n",
    "#       # ======================================== Validation\n",
    "\n",
    "      print('Average loss at step %d: %.4f, learning rate: %.4f' % (step, mean_loss, lr))\n",
    "\n",
    "      losses.append(mean_loss)\n",
    "      mean_loss = 0\n",
    "\n",
    "  taken = (time.time() - start_at) / 60\n",
    "  print(f\"Learning finished in {taken:.1f} minutes.\")\n",
    "\n",
    "  # save what have been learned\n",
    "  saver.save(session, STORAGE_PATH)"
   ]
  },
  {
   "cell_type": "code",
   "execution_count": 11,
   "metadata": {},
   "outputs": [
    {
     "data": {
      "image/png": "[encoded data removed]",
      "text/plain": [
       "<matplotlib.figure.Figure at 0x10bcbb198>"
      ]
     },
     "metadata": {},
     "output_type": "display_data"
    }
   ],
   "source": [
    "plt.figure().set_size_inches(15, 4)\n",
    "\n",
    "x_axis  = [n * summary_frequency for n in range(0, len(losses))]\n",
    "vx_axis = [n * summary_frequency * 4 for n in range(0, len(v_losses))]\n",
    "# for data in [losses, v_losses]:\n",
    "plt.plot(x_axis, losses)\n",
    "plt.plot(vx_axis, v_losses)\n",
    "plt.grid()\n",
    "\n",
    "plt.show()"
   ]
  },
  {
   "cell_type": "markdown",
   "metadata": {},
   "source": [
    "## 4. Having fun"
   ]
  },
  {
   "cell_type": "markdown",
   "metadata": {},
   "source": [
    "Let us now see the world with neural network's eyes.\n",
    "\n",
    "First recollect what the model has learned:"
   ]
  },
  {
   "cell_type": "code",
   "execution_count": 12,
   "metadata": {
    "collapsed": true
   },
   "outputs": [],
   "source": [
    "def evaluate(articles, session):\n",
    "  for article in articles:\n",
    "    session.run(reset_sample_state)\n",
    "    predicted = []\n",
    "    for word in article:\n",
    "      prediction = session.run(sample_prediction, { sample_input: [dictionary[word]] })\n",
    "      predicted.append(prediction[0])\n",
    "\n",
    "    print_md(represent(article, predicted))"
   ]
  },
  {
   "cell_type": "markdown",
   "metadata": {},
   "source": [
    "Let's ask to evaluate some provoking statements:"
   ]
  },
  {
   "cell_type": "code",
   "execution_count": 37,
   "metadata": {},
   "outputs": [
    {
     "name": "stdout",
     "output_type": "stream",
     "text": [
      "INFO:tensorflow:Restoring parameters from ./storage/model\n"
     ]
    },
    {
     "data": {
      "text/markdown": [
       "<span style='color: rgb(28.0, 227.0, 0)'>=></span> <span style='color: rgb(3.0, 252.0, 0)'>британск</span> <span style='color: rgb(2.0, 253.0, 0)'>совет</span> <span style='color: rgb(27.0, 228.0, 0)'>взорва</span> ... <span style='color: rgb(32.0, 223.0, 0)'>посл</span> <span style='color: rgb(22.0, 233.0, 0)'>испуг</span> <span style='color: rgb(28.0, 227.0, 0)'>вокруг</span>"
      ],
      "text/plain": [
       "<IPython.core.display.Markdown object>"
      ]
     },
     "metadata": {},
     "output_type": "display_data"
    },
    {
     "data": {
      "text/markdown": [
       "<span style='color: rgb(181.0, 74.0, 0)'>=></span> <span style='color: rgb(3.0, 252.0, 0)'>британск</span> <span style='color: rgb(37.0, 218.0, 0)'>бомб</span> <span style='color: rgb(87.0, 168.0, 0)'>взорва</span> <span style='color: rgb(99.0, 156.0, 0)'>аэропорт</span> <span style='color: rgb(112.0, 143.0, 0)'>UNK</span> <span style='color: rgb(130.0, 125.0, 0)'>вечер</span> <span style='color: rgb(157.0, 98.0, 0)'>посл</span> <span style='color: rgb(135.0, 120.0, 0)'>испуг</span> <span style='color: rgb(181.0, 74.0, 0)'>вокруг</span>"
      ],
      "text/plain": [
       "<IPython.core.display.Markdown object>"
      ]
     },
     "metadata": {},
     "output_type": "display_data"
    },
    {
     "data": {
      "text/markdown": [
       "<span style='color: rgb(181.0, 74.0, 0)'>=></span> <span style='color: rgb(41.0, 214.0, 0)'>бомб</span> <span style='color: rgb(84.0, 171.0, 0)'>взорва</span> <span style='color: rgb(100.0, 155.0, 0)'>аэропорт</span> <span style='color: rgb(114.0, 141.0, 0)'>UNK</span> <span style='color: rgb(135.0, 120.0, 0)'>вечер</span> <span style='color: rgb(157.0, 98.0, 0)'>посл</span> <span style='color: rgb(137.0, 118.0, 0)'>испуг</span> <span style='color: rgb(181.0, 74.0, 0)'>вокруг</span>"
      ],
      "text/plain": [
       "<IPython.core.display.Markdown object>"
      ]
     },
     "metadata": {},
     "output_type": "display_data"
    },
    {
     "data": {
      "text/markdown": [
       "<span style='color: rgb(104.0, 151.0, 0)'>=></span> <span style='color: rgb(3.0, 252.0, 0)'>секс</span> <span style='color: rgb(10.0, 245.0, 0)'>бомб</span> <span style='color: rgb(64.0, 191.0, 0)'>взорва</span> <span style='color: rgb(80.0, 175.0, 0)'>аэропорт</span> <span style='color: rgb(90.0, 165.0, 0)'>UNK</span> <span style='color: rgb(100.0, 155.0, 0)'>вечер</span> <span style='color: rgb(126.0, 129.0, 0)'>посл</span> <span style='color: rgb(104.0, 151.0, 0)'>танц</span>"
      ],
      "text/plain": [
       "<IPython.core.display.Markdown object>"
      ]
     },
     "metadata": {},
     "output_type": "display_data"
    },
    {
     "data": {
      "text/markdown": [
       "<span style='color: rgb(113.0, 142.0, 0)'>=></span> <span style='color: rgb(3.0, 252.0, 0)'>британск</span> <span style='color: rgb(1.0, 254.0, 0)'>секс</span> <span style='color: rgb(4.0, 251.0, 0)'>бомб</span> ... <span style='color: rgb(66.0, 189.0, 0)'>вечер</span> <span style='color: rgb(91.0, 164.0, 0)'>посл</span> <span style='color: rgb(70.0, 185.0, 0)'>испуг</span> <span style='color: rgb(113.0, 142.0, 0)'>вокруг</span>"
      ],
      "text/plain": [
       "<IPython.core.display.Markdown object>"
      ]
     },
     "metadata": {},
     "output_type": "display_data"
    }
   ],
   "source": [
    "with tf.Session(graph=graph) as session:\n",
    "  saver.restore(session, STORAGE_PATH)\n",
    "\n",
    "  articles = [['британск', 'совет', 'взорва', 'аэропорт', 'UNK', 'вечер', 'посл', 'испуг', 'вокруг'],\n",
    "              ['британск', 'бомб', 'взорва', 'аэропорт', 'UNK', 'вечер', 'посл', 'испуг', 'вокруг'],\n",
    "              ['бомб', 'взорва', 'аэропорт', 'UNK', 'вечер', 'посл', 'испуг', 'вокруг'],\n",
    "              ['секс', 'бомб', 'взорва', 'аэропорт', 'UNK', 'вечер', 'посл', 'танц'],\n",
    "              ['британск', 'секс', 'бомб', 'взорва', 'аэропорт', 'UNK', 'вечер', 'посл', 'испуг', 'вокруг']]\n",
    "\n",
    "  evaluate(articles, session)"
   ]
  },
  {
   "cell_type": "markdown",
   "metadata": {},
   "source": [
    "As you can see, the results are quite impressive. The model does recognize the words by their context. Neural network here is at its best.\n",
    "\n",
    "Moreover, prepending a statement with strongly provoking word `'неизвестный'` does not move the model off to a downward spiral of misunderstanding :)"
   ]
  },
  {
   "cell_type": "code",
   "execution_count": 43,
   "metadata": {},
   "outputs": [
    {
     "name": "stdout",
     "output_type": "stream",
     "text": [
      "INFO:tensorflow:Restoring parameters from ./storage/model\n"
     ]
    },
    {
     "data": {
      "text/markdown": [
       "<span style='color: rgb(120.0, 135.0, 0)'>=></span> <span style='color: rgb(11.0, 244.0, 0)'>неизвестн</span> <span style='color: rgb(9.0, 246.0, 0)'>секс</span> <span style='color: rgb(59.0, 196.0, 0)'>бомб</span> ... <span style='color: rgb(51.0, 204.0, 0)'>в</span> <span style='color: rgb(77.0, 178.0, 0)'>аэропорт</span> <span style='color: rgb(83.0, 172.0, 0)'>UNK</span> <span style='color: rgb(111.0, 144.0, 0)'>.</span> <span style='color: rgb(85.0, 170.0, 0)'>все</span> <span style='color: rgb(97.0, 158.0, 0)'>снима</span> <span style='color: rgb(120.0, 135.0, 0)'>вокруг</span>"
      ],
      "text/plain": [
       "<IPython.core.display.Markdown object>"
      ]
     },
     "metadata": {},
     "output_type": "display_data"
    },
    {
     "data": {
      "text/markdown": [
       "<span style='color: rgb(140.0, 115.0, 0)'>=></span> <span style='color: rgb(11.0, 244.0, 0)'>неизвестн</span> <span style='color: rgb(69.0, 186.0, 0)'>бомб</span> <span style='color: rgb(54.0, 201.0, 0)'>раздел</span> <span style='color: rgb(69.0, 186.0, 0)'>в</span> <span style='color: rgb(91.0, 164.0, 0)'>аэропорт</span> <span style='color: rgb(100.0, 155.0, 0)'>UNK</span> <span style='color: rgb(127.0, 128.0, 0)'>.</span> <span style='color: rgb(104.0, 151.0, 0)'>все</span> <span style='color: rgb(119.0, 136.0, 0)'>снима</span> <span style='color: rgb(140.0, 115.0, 0)'>вокруг</span>"
      ],
      "text/plain": [
       "<IPython.core.display.Markdown object>"
      ]
     },
     "metadata": {},
     "output_type": "display_data"
    },
    {
     "data": {
      "text/markdown": [
       "<span style='color: rgb(77.0, 178.0, 0)'>=></span> <span style='color: rgb(11.0, 244.0, 0)'>неизвестн</span> <span style='color: rgb(9.0, 246.0, 0)'>секс</span> <span style='color: rgb(59.0, 196.0, 0)'>бомб</span> <span style='color: rgb(40.0, 215.0, 0)'>раздел</span> <span style='color: rgb(51.0, 204.0, 0)'>в</span> <span style='color: rgb(77.0, 178.0, 0)'>аэропорт</span>"
      ],
      "text/plain": [
       "<IPython.core.display.Markdown object>"
      ]
     },
     "metadata": {},
     "output_type": "display_data"
    },
    {
     "data": {
      "text/markdown": [
       "<span style='color: rgb(41.0, 214.0, 0)'>=></span> <span style='color: rgb(11.0, 244.0, 0)'>неизвестн</span> <span style='color: rgb(9.0, 246.0, 0)'>секс</span> <span style='color: rgb(59.0, 196.0, 0)'>бомб</span> ... <span style='color: rgb(38.0, 217.0, 0)'>для</span> <span style='color: rgb(43.0, 212.0, 0)'>фотосесс</span> <span style='color: rgb(41.0, 214.0, 0)'>вокруг</span>"
      ],
      "text/plain": [
       "<IPython.core.display.Markdown object>"
      ]
     },
     "metadata": {},
     "output_type": "display_data"
    },
    {
     "data": {
      "text/markdown": [
       "<span style='color: rgb(203.0, 52.0, 0)'>=></span> <span style='color: rgb(11.0, 244.0, 0)'>неизвестн</span> <span style='color: rgb(29.0, 226.0, 0)'>сообщ</span> <span style='color: rgb(43.0, 212.0, 0)'>о</span> <span style='color: rgb(153.0, 102.0, 0)'>бомб</span> <span style='color: rgb(146.0, 109.0, 0)'>в</span> <span style='color: rgb(147.0, 108.0, 0)'>аэропорт</span> <span style='color: rgb(169.0, 86.0, 0)'>UNK</span> <span style='color: rgb(189.0, 66.0, 0)'>.</span> <span style='color: rgb(183.0, 72.0, 0)'>все</span> <span style='color: rgb(189.0, 66.0, 0)'>испуга</span> <span style='color: rgb(203.0, 52.0, 0)'>вокруг</span>"
      ],
      "text/plain": [
       "<IPython.core.display.Markdown object>"
      ]
     },
     "metadata": {},
     "output_type": "display_data"
    },
    {
     "data": {
      "text/markdown": [
       "<span style='color: rgb(203.0, 52.0, 0)'>=></span> <span style='color: rgb(11.0, 244.0, 0)'>неизвестн</span> <span style='color: rgb(29.0, 226.0, 0)'>сообщ</span> <span style='color: rgb(43.0, 212.0, 0)'>о</span> <span style='color: rgb(66.0, 189.0, 0)'>секс</span> <span style='color: rgb(162.0, 93.0, 0)'>бомб</span> <span style='color: rgb(151.0, 104.0, 0)'>в</span> <span style='color: rgb(156.0, 99.0, 0)'>аэропорт</span> <span style='color: rgb(175.0, 80.0, 0)'>UNK</span> <span style='color: rgb(192.0, 63.0, 0)'>.</span> <span style='color: rgb(186.0, 69.0, 0)'>все</span> <span style='color: rgb(189.0, 66.0, 0)'>испуга</span> <span style='color: rgb(203.0, 52.0, 0)'>вокруг</span>"
      ],
      "text/plain": [
       "<IPython.core.display.Markdown object>"
      ]
     },
     "metadata": {},
     "output_type": "display_data"
    }
   ],
   "source": [
    "with tf.Session(graph=graph) as session:\n",
    "  saver.restore(session, STORAGE_PATH)\n",
    "\n",
    "  articles = [['неизвестн', 'секс', 'бомб', 'раздел', 'в', 'аэропорт', 'UNK', '.', 'все', 'снима', 'вокруг'],\n",
    "              ['неизвестн', 'бомб', 'раздел', 'в', 'аэропорт', 'UNK', '.', 'все', 'снима', 'вокруг'],\n",
    "              ['неизвестн', 'секс', 'бомб', 'раздел', 'в', 'аэропорт'],\n",
    "              ['неизвестн', 'секс', 'бомб', 'раздел', 'полност', 'в', 'аэропорт', 'для', 'фотосесс', 'вокруг'],\n",
    "              ['неизвестн', 'сообщ', 'о', 'бомб', 'в', 'аэропорт', 'UNK', '.', 'все', 'испуга', 'вокруг'],\n",
    "              ['неизвестн', 'сообщ', 'о', 'секс', 'бомб', 'в', 'аэропорт', 'UNK', '.', 'все', 'испуга', 'вокруг']]\n",
    "\n",
    "  evaluate(articles, session)"
   ]
  },
  {
   "cell_type": "markdown",
   "metadata": {
    "collapsed": true
   },
   "source": [
    "However, having someone notified of a sex-bomb in an airport is still considered a bad news. On the other hand - given the source of our _bad_ news - perhaps that is what we had taught our model to."
   ]
  },
  {
   "cell_type": "code",
   "execution_count": null,
   "metadata": {
    "collapsed": true
   },
   "outputs": [],
   "source": []
  }
 ],
 "metadata": {
  "kernelspec": {
   "display_name": "Python 3",
   "language": "python",
   "name": "python3"
  },
  "language_info": {
   "codemirror_mode": {
    "name": "ipython",
    "version": 3
   },
   "file_extension": ".py",
   "mimetype": "text/x-python",
   "name": "python",
   "nbconvert_exporter": "python",
   "pygments_lexer": "ipython3",
   "version": "3.6.1"
  }
 },
 "nbformat": 4,
 "nbformat_minor": 2
}
