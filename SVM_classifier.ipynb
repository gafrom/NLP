{
 "cells": [
  {
   "cell_type": "markdown",
   "metadata": {},
   "source": [
    "# Text Classification\n",
    "\n",
    "Using SVM"
   ]
  },
  {
   "cell_type": "code",
   "execution_count": null,
   "metadata": {
    "collapsed": true
   },
   "outputs": [],
   "source": [
    "import pickle\n",
    "from pathlib import Path\n",
    "import os\n",
    "\n",
    "import pandas as pd\n",
    "import numpy as np\n",
    "from sklearn import metrics\n",
    "\n",
    "from nlp.nb import NBClassifier"
   ]
  },
  {
   "cell_type": "markdown",
   "metadata": {},
   "source": [
    "### Loading articles"
   ]
  },
  {
   "cell_type": "code",
   "execution_count": null,
   "metadata": {
    "collapsed": true
   },
   "outputs": [],
   "source": [
    "STORAGE_PATH = './storage/nb.model'\n",
    "\n",
    "good_articles = pd.read_table('./articles/good.articles', sep='\\n', names=['body'])\n",
    "good_articles['label'] = 0 # good\n",
    "bad_articles  = pd.read_table('./articles/bad.articles', sep='\\n', names=['body'])\n",
    "bad_articles['label'] = 1 # bad\n",
    "\n",
    "# joining\n",
    "articles = pd.concat([good_articles, bad_articles], ignore_index=True)\n",
    "\n",
    "# persistently shuffling\n",
    "index_path = f\"{STORAGE_PATH}.shuffled_index\"\n",
    "if Path(index_path).is_file():\n",
    "  file_size = os.path.getsize(index_path)\n",
    "  print(f\"Loading index from stored file ({file_size} bytes)...\")\n",
    "  with open(index_path, 'rb') as fp:\n",
    "    shuffled_index = pickle.load(fp)\n",
    "else:\n",
    "  print('Shuffling index for the first time ...')\n",
    "  shuffled_index = np.random.permutation(articles.index)\n",
    "  print('Saving index on disk for further access...')\n",
    "  with open(index_path, 'wb') as fp:\n",
    "    pickle.dump(shuffled_index, fp)\n",
    "  file_size = os.path.getsize(index_path)\n",
    "  print(f\"Done. It took {file_size} bytes on the disk.\")\n",
    "\n",
    "articles = articles.reindex(shuffled_index)\n",
    "\n",
    "print(f\"Counts:\\n{articles['label'].value_counts()}\")\n",
    "articles.head()"
   ]
  },
  {
   "cell_type": "markdown",
   "metadata": {},
   "source": [
    "### Splitting between train and test"
   ]
  },
  {
   "cell_type": "code",
   "execution_count": null,
   "metadata": {
    "collapsed": true
   },
   "outputs": [],
   "source": [
    "test_first_index = int(articles.shape[0] * 0.35)\n",
    "\n",
    "train_data = articles[:test_first_index]\n",
    "test_data  = articles[test_first_index:]\n",
    "\n",
    "print(train_data.shape)\n",
    "print(test_data.shape)"
   ]
  },
  {
   "cell_type": "markdown",
   "metadata": {},
   "source": [
    "### Training"
   ]
  },
  {
   "cell_type": "code",
   "execution_count": null,
   "metadata": {
    "collapsed": true
   },
   "outputs": [],
   "source": []
  },
  {
   "cell_type": "markdown",
   "metadata": {},
   "source": [
    "### Predicting"
   ]
  },
  {
   "cell_type": "code",
   "execution_count": null,
   "metadata": {
    "collapsed": true
   },
   "outputs": [],
   "source": [
    "report = metrics.classification_report(test_data['label'], predictions)\n",
    "print(report)"
   ]
  },
  {
   "cell_type": "markdown",
   "metadata": {},
   "source": [
    "### Results\n"
   ]
  }
 ],
 "metadata": {
  "kernelspec": {
   "display_name": "Python 3",
   "language": "python",
   "name": "python3"
  },
  "language_info": {
   "codemirror_mode": {
    "name": "ipython",
    "version": 3
   },
   "file_extension": ".py",
   "mimetype": "text/x-python",
   "name": "python",
   "nbconvert_exporter": "python",
   "pygments_lexer": "ipython3",
   "version": "3.6.1"
  }
 },
 "nbformat": 4,
 "nbformat_minor": 2
}
